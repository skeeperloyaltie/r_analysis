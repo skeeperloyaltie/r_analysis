{
  "nbformat": 4,
  "nbformat_minor": 0,
  "metadata": {
    "colab": {
      "name": " LAB_HW_ID.ipynb",
      "provenance": [],
      "collapsed_sections": [],
      "include_colab_link": true
    },
    "kernelspec": {
      "display_name": "R",
      "language": "R",
      "name": "ir"
    },
    "language_info": {
      "codemirror_mode": "r",
      "file_extension": ".r",
      "mimetype": "text/x-r-source",
      "name": "R",
      "pygments_lexer": "r",
      "version": "3.6.1"
    }
  },
  "cells": [
    {
      "cell_type": "markdown",
      "metadata": {
        "id": "view-in-github",
        "colab_type": "text"
      },
      "source": [
        "<a href=\"https://colab.research.google.com/github/skeeperloyaltie/r_analysis/blob/main/LAB_HW_ID.ipynb\" target=\"_parent\"><img src=\"https://colab.research.google.com/assets/colab-badge.svg\" alt=\"Open In Colab\"/></a>"
      ]
    },
    {
      "cell_type": "markdown",
      "metadata": {
        "id": "U8jqzMIdGDD_"
      },
      "source": [
        "\n",
        "\n",
        "---\n",
        "\n",
        "\n",
        "# CIT 466 Lab Homework #01\n",
        "* **Student Name**:___________\n",
        "* **Student ID**:__________\n",
        "\n",
        "Or\n",
        "\n",
        "* **Group ID:**\n",
        "            1.   **Student #1 ID & Name:**\n",
        "            2.   **Student #2 ID & Name:**\n",
        "\n",
        "* **Section**: CIT 466-XXX\n",
        "* **Grade**: Out 100. (10% of the whole Course Grade).\n",
        "* **Part I Mark**: 40%.\n",
        "* **Part II Mark**: 60%.\n",
        "* **Due Date**: Wednesday 18/11/2021  End of the Day \n",
        "\n",
        "\n",
        "---\n",
        "\n",
        "\n",
        "* **Lab#01 guidelines:**\n",
        " 1. Individual/Group submission of the ipynb file, link, and the PDF file\n",
        " 2. Replace the word \"**ID**\" in the filename `Lab#02_ID.ipynb` with your student ID in the name of the notebook\n",
        " 3. before converting to PDF share the link of your notebook and paste it as shown in th example below:\n",
        "> https://colab.research.google.com/drive/1ZkRswbjKFZH1z5sbv5RwhXZTXCJRZN8P?usp=sharing\n",
        "\n",
        "---\n",
        "\n",
        "\n",
        "* **Instructor**: Dr. Ikbal Taleb\n",
        "\n",
        "* **Zayed University**, **CTI**, `Data Analytics Course (c) Spring 2021`\n",
        "\n",
        "* **Versions**:\n",
        "          1.2 `Updated on 25 October 2021 at 15:40` \n",
        "          1.1 `Updated on 07 April 2021 at 20:40` \n",
        "          1.0 `Updated on 08 March 2021 at 23:00` \n",
        "\n",
        "\n",
        "---\n",
        "\n",
        "\n",
        "\n",
        "\n",
        "\n",
        "\n",
        "\n",
        "\n",
        "\n"
      ]
    },
    {
      "cell_type": "markdown",
      "metadata": {
        "id": "fFEstK5Z0OUL"
      },
      "source": [
        "# **Datasets**\n",
        "\n",
        "**Part I Dataset**\n",
        "***DataSet (csv format)***\n",
        "https://raw.githubusercontent.com/itechplus2020/Spring2021/main/Exasens.csv\n",
        "\n",
        "***DataSet Description (txt Format)***\n",
        "https://raw.githubusercontent.com/itechplus2020/Spring2021/main/Exasens.txt or [link](https://ieee-dataport.org/open-access/exasens-novel-dataset-classification-saliva-samples-copd-patients)\n",
        "\n",
        "**Part II Dataset(s)**\n",
        "Will be provided after finnishing Clustering Lecture Chapter. \n",
        "---\n",
        "\n"
      ]
    },
    {
      "cell_type": "markdown",
      "metadata": {
        "id": "fPhXUZ1bD4jP"
      },
      "source": [
        "# Part I -  Exploratory Data Analysis (EDA)\n",
        "\n",
        "\n",
        "A.   Data Exploration\n",
        "\n",
        "B.   Data Preparation\n",
        "\n",
        "C.   Data Vizualisation\n",
        "\n",
        "\n",
        "Tasks related to the previous activities:\n",
        "\n",
        "**A. Data Exploration**\n",
        "\n",
        "1.\tImport/load the dataset.\n",
        "2.\tSummarize it and explain the output.\n",
        "3.\tShow the structure and explain it.\n",
        "4.\tShow some data from the dataset.\n",
        "5.\tShow the frequency of some dataset variables of your choice you judge crucial and important (ex categorical variable if any) .\n",
        "6.\tShow the variable names and give a simple description of each.\n",
        "\n",
        "**B. Data Pre-Processing**\n",
        "\n",
        "1.\tIs there a class variable in the dataset? if yes what is it?\n",
        "2.\tChange the class variable type of the class variable to factor.\n",
        "3.\tIs there missing variables in the dataset.\n",
        "4.\tFind the position of each missing variable in the dataset.\n",
        "5.\tReplace the missing variables by 0.\n",
        "\n",
        "**C. Data Visualization**\n",
        "\n",
        "1.\tFind the correlation between the dataset variables and explain the output.\n",
        "2.\tPlot the correlation between variables.\n",
        "3.\tDo a barplot of important variables of the dataset \n",
        "4.  Use ggplot barplot function for the same variables and explain the output.\n",
        "4.\tBoxplot any variable of your choice of the dataset and explain the output\n",
        "\n",
        "\n"
      ]
    },
    {
      "cell_type": "markdown",
      "metadata": {
        "id": "qA92Q8IJI27u"
      },
      "source": [
        "### Answers"
      ]
    },
    {
      "cell_type": "code",
      "metadata": {
        "id": "wm8AXmzkD4jc"
      },
      "source": [
        "#1. Your answers goes here: use as many code cells or text cell to have a nice presenatation of your Answers or solutions (results, graphs and analysis)\n"
      ],
      "execution_count": null,
      "outputs": []
    },
    {
      "cell_type": "markdown",
      "metadata": {
        "id": "i--MkfGw360S"
      },
      "source": [
        "## Data Exploration"
      ]
    },
    {
      "cell_type": "code",
      "metadata": {
        "id": "Y5Nshf_1360U",
        "outputId": "439289d2-124b-4309-9911-977ae683c937",
        "colab": {
          "base_uri": "https://localhost:8080/",
          "height": 283
        }
      },
      "source": [
        "# 1.\tImport/load the dataset.\n",
        "exacens <- read.csv(\"https://raw.githubusercontent.com/itechplus2020/Spring2021/main/Exasens.csv\")\n",
        "head(exacens)"
      ],
      "execution_count": 1,
      "outputs": [
        {
          "output_type": "display_data",
          "data": {
            "text/plain": [
              "  Diagnosis ID    Imaginary.Part.Min Imaginary.Part.Avg. Real.Part.Min\n",
              "1 COPD      301-4 -320.61            -300.5635           -495.26      \n",
              "2 COPD      302-3 -325.39            -314.7504           -473.73      \n",
              "3 COPD      303-3 -323.00            -317.4361           -476.12      \n",
              "4 COPD      304-4 -327.78            -317.3997           -473.73      \n",
              "5 COPD      305-4 -325.39            -316.1558           -478.52      \n",
              "6 COPD      306-3 -327.78            -318.6776           -507.23      \n",
              "  Real.Part.Avg. Gender Age Smoking X  X.1 X.2 X.3\n",
              "1 -464.1720      1      77  2       NA NA  NA  NA \n",
              "2 -469.2631      0      72  2       NA NA  NA  NA \n",
              "3 -471.8977      1      73  3       NA NA  NA  NA \n",
              "4 -468.8564      1      76  2       NA NA  NA  NA \n",
              "5 -472.8698      0      65  2       NA NA  NA  NA \n",
              "6 -469.0242      1      60  2       NA NA  NA  NA "
            ],
            "text/latex": "A data.frame: 6 × 13\n\\begin{tabular}{r|lllllllllllll}\n  & Diagnosis & ID & Imaginary.Part.Min & Imaginary.Part.Avg. & Real.Part.Min & Real.Part.Avg. & Gender & Age & Smoking & X & X.1 & X.2 & X.3\\\\\n  & <chr> & <chr> & <dbl> & <dbl> & <dbl> & <dbl> & <int> & <int> & <int> & <lgl> & <lgl> & <lgl> & <lgl>\\\\\n\\hline\n\t1 & COPD & 301-4 & -320.61 & -300.5635 & -495.26 & -464.1720 & 1 & 77 & 2 & NA & NA & NA & NA\\\\\n\t2 & COPD & 302-3 & -325.39 & -314.7504 & -473.73 & -469.2631 & 0 & 72 & 2 & NA & NA & NA & NA\\\\\n\t3 & COPD & 303-3 & -323.00 & -317.4361 & -476.12 & -471.8977 & 1 & 73 & 3 & NA & NA & NA & NA\\\\\n\t4 & COPD & 304-4 & -327.78 & -317.3997 & -473.73 & -468.8564 & 1 & 76 & 2 & NA & NA & NA & NA\\\\\n\t5 & COPD & 305-4 & -325.39 & -316.1558 & -478.52 & -472.8698 & 0 & 65 & 2 & NA & NA & NA & NA\\\\\n\t6 & COPD & 306-3 & -327.78 & -318.6776 & -507.23 & -469.0242 & 1 & 60 & 2 & NA & NA & NA & NA\\\\\n\\end{tabular}\n",
            "text/markdown": "\nA data.frame: 6 × 13\n\n| <!--/--> | Diagnosis &lt;chr&gt; | ID &lt;chr&gt; | Imaginary.Part.Min &lt;dbl&gt; | Imaginary.Part.Avg. &lt;dbl&gt; | Real.Part.Min &lt;dbl&gt; | Real.Part.Avg. &lt;dbl&gt; | Gender &lt;int&gt; | Age &lt;int&gt; | Smoking &lt;int&gt; | X &lt;lgl&gt; | X.1 &lt;lgl&gt; | X.2 &lt;lgl&gt; | X.3 &lt;lgl&gt; |\n|---|---|---|---|---|---|---|---|---|---|---|---|---|---|\n| 1 | COPD | 301-4 | -320.61 | -300.5635 | -495.26 | -464.1720 | 1 | 77 | 2 | NA | NA | NA | NA |\n| 2 | COPD | 302-3 | -325.39 | -314.7504 | -473.73 | -469.2631 | 0 | 72 | 2 | NA | NA | NA | NA |\n| 3 | COPD | 303-3 | -323.00 | -317.4361 | -476.12 | -471.8977 | 1 | 73 | 3 | NA | NA | NA | NA |\n| 4 | COPD | 304-4 | -327.78 | -317.3997 | -473.73 | -468.8564 | 1 | 76 | 2 | NA | NA | NA | NA |\n| 5 | COPD | 305-4 | -325.39 | -316.1558 | -478.52 | -472.8698 | 0 | 65 | 2 | NA | NA | NA | NA |\n| 6 | COPD | 306-3 | -327.78 | -318.6776 | -507.23 | -469.0242 | 1 | 60 | 2 | NA | NA | NA | NA |\n\n",
            "text/html": [
              "<table class=\"dataframe\">\n",
              "<caption>A data.frame: 6 × 13</caption>\n",
              "<thead>\n",
              "\t<tr><th></th><th scope=col>Diagnosis</th><th scope=col>ID</th><th scope=col>Imaginary.Part.Min</th><th scope=col>Imaginary.Part.Avg.</th><th scope=col>Real.Part.Min</th><th scope=col>Real.Part.Avg.</th><th scope=col>Gender</th><th scope=col>Age</th><th scope=col>Smoking</th><th scope=col>X</th><th scope=col>X.1</th><th scope=col>X.2</th><th scope=col>X.3</th></tr>\n",
              "\t<tr><th></th><th scope=col>&lt;chr&gt;</th><th scope=col>&lt;chr&gt;</th><th scope=col>&lt;dbl&gt;</th><th scope=col>&lt;dbl&gt;</th><th scope=col>&lt;dbl&gt;</th><th scope=col>&lt;dbl&gt;</th><th scope=col>&lt;int&gt;</th><th scope=col>&lt;int&gt;</th><th scope=col>&lt;int&gt;</th><th scope=col>&lt;lgl&gt;</th><th scope=col>&lt;lgl&gt;</th><th scope=col>&lt;lgl&gt;</th><th scope=col>&lt;lgl&gt;</th></tr>\n",
              "</thead>\n",
              "<tbody>\n",
              "\t<tr><th scope=row>1</th><td>COPD</td><td>301-4</td><td>-320.61</td><td>-300.5635</td><td>-495.26</td><td>-464.1720</td><td>1</td><td>77</td><td>2</td><td>NA</td><td>NA</td><td>NA</td><td>NA</td></tr>\n",
              "\t<tr><th scope=row>2</th><td>COPD</td><td>302-3</td><td>-325.39</td><td>-314.7504</td><td>-473.73</td><td>-469.2631</td><td>0</td><td>72</td><td>2</td><td>NA</td><td>NA</td><td>NA</td><td>NA</td></tr>\n",
              "\t<tr><th scope=row>3</th><td>COPD</td><td>303-3</td><td>-323.00</td><td>-317.4361</td><td>-476.12</td><td>-471.8977</td><td>1</td><td>73</td><td>3</td><td>NA</td><td>NA</td><td>NA</td><td>NA</td></tr>\n",
              "\t<tr><th scope=row>4</th><td>COPD</td><td>304-4</td><td>-327.78</td><td>-317.3997</td><td>-473.73</td><td>-468.8564</td><td>1</td><td>76</td><td>2</td><td>NA</td><td>NA</td><td>NA</td><td>NA</td></tr>\n",
              "\t<tr><th scope=row>5</th><td>COPD</td><td>305-4</td><td>-325.39</td><td>-316.1558</td><td>-478.52</td><td>-472.8698</td><td>0</td><td>65</td><td>2</td><td>NA</td><td>NA</td><td>NA</td><td>NA</td></tr>\n",
              "\t<tr><th scope=row>6</th><td>COPD</td><td>306-3</td><td>-327.78</td><td>-318.6776</td><td>-507.23</td><td>-469.0242</td><td>1</td><td>60</td><td>2</td><td>NA</td><td>NA</td><td>NA</td><td>NA</td></tr>\n",
              "</tbody>\n",
              "</table>\n"
            ]
          },
          "metadata": {}
        }
      ]
    },
    {
      "cell_type": "code",
      "metadata": {
        "id": "xYP93bz2dChi"
      },
      "source": [
        ""
      ],
      "execution_count": null,
      "outputs": []
    },
    {
      "cell_type": "markdown",
      "metadata": {
        "id": "Zh3_CIF9wMFX"
      },
      "source": [
        "\n",
        "\n",
        "---\n",
        "\n"
      ]
    },
    {
      "cell_type": "code",
      "metadata": {
        "id": "c64_Ziuz360W"
      },
      "source": [
        "#2.\tSummarize it and explain the output.\n"
      ],
      "execution_count": null,
      "outputs": []
    },
    {
      "cell_type": "code",
      "metadata": {
        "id": "1y4kRdZO360Y"
      },
      "source": [
        "#3.\tShow the structure and explain it.\n"
      ],
      "execution_count": null,
      "outputs": []
    },
    {
      "cell_type": "code",
      "metadata": {
        "id": "7jbhgtHx360Z"
      },
      "source": [
        "#4.\tShow some data from the dataset.\n"
      ],
      "execution_count": null,
      "outputs": []
    },
    {
      "cell_type": "code",
      "metadata": {
        "id": "h03yesdB360a"
      },
      "source": [
        "#5.\tShow the frequency of some dataset variables of your choice you judge crucial and important (ex categorical variable if any) .\n"
      ],
      "execution_count": null,
      "outputs": []
    },
    {
      "cell_type": "code",
      "metadata": {
        "id": "bMJT1pLw360a"
      },
      "source": [
        "#6.\tShow the variable names and give a simple description of each.\n"
      ],
      "execution_count": null,
      "outputs": []
    },
    {
      "cell_type": "markdown",
      "metadata": {
        "id": "o-816xsD360b"
      },
      "source": [
        "## Data Pre-Processing"
      ]
    },
    {
      "cell_type": "code",
      "metadata": {
        "id": "eTNEXjUJ360b"
      },
      "source": [
        "#1.\tIs there a class variable in the dataset? if yes what is it?\n"
      ],
      "execution_count": null,
      "outputs": []
    },
    {
      "cell_type": "code",
      "metadata": {
        "id": "IiL6u5s1360c"
      },
      "source": [
        "#2.\tChange the class variable type of the class variable to factor.\n",
        "\n"
      ],
      "execution_count": null,
      "outputs": []
    },
    {
      "cell_type": "code",
      "metadata": {
        "id": "AKMdYVkw360c"
      },
      "source": [
        "#3.\tIs there missing variables in the dataset.\n"
      ],
      "execution_count": null,
      "outputs": []
    },
    {
      "cell_type": "code",
      "metadata": {
        "id": "Fx-RhDUc360d"
      },
      "source": [
        "#4.\tFind the position of each missing variable in the dataset.\n"
      ],
      "execution_count": null,
      "outputs": []
    },
    {
      "cell_type": "code",
      "metadata": {
        "id": "W4gxhPek360d"
      },
      "source": [
        "#5.\tReplace the missing variables by 0.\n"
      ],
      "execution_count": null,
      "outputs": []
    },
    {
      "cell_type": "markdown",
      "metadata": {
        "id": "X-r_doBJ360e"
      },
      "source": [
        "## Data Visualization"
      ]
    },
    {
      "cell_type": "code",
      "metadata": {
        "id": "pvsIFwml360e"
      },
      "source": [
        "#1.\tFind the correlation between the dataset variables and explain the output.\n"
      ],
      "execution_count": null,
      "outputs": []
    },
    {
      "cell_type": "code",
      "metadata": {
        "id": "0_pLbj9z360e"
      },
      "source": [
        "#2.\tPlot the correlation between variables.\n"
      ],
      "execution_count": null,
      "outputs": []
    },
    {
      "cell_type": "code",
      "metadata": {
        "id": "wi7kXow2360f"
      },
      "source": [
        "#3.\tDo a barplot of important variables of the dataset \n"
      ],
      "execution_count": null,
      "outputs": []
    },
    {
      "cell_type": "code",
      "metadata": {
        "id": "pNJAFMWW360f"
      },
      "source": [
        "#4.  Use ggplot barplot function for the same variables and explain the output.\n"
      ],
      "execution_count": null,
      "outputs": []
    },
    {
      "cell_type": "code",
      "metadata": {
        "id": "ren5H4VZ360g"
      },
      "source": [
        "#4.\tBoxplot any variable of your choice of the dataset and explain the output\n"
      ],
      "execution_count": null,
      "outputs": []
    },
    {
      "cell_type": "markdown",
      "metadata": {
        "id": "1brHopfawMWI"
      },
      "source": [
        "# Part II - Model Planning/Building\n",
        "Used Techniques:\n",
        "\n",
        "\n",
        "1.   Clustering (Chapte 4)\n",
        "2.   Classification (Chapte 5)\n",
        "\n",
        "\n",
        "\n",
        "\n"
      ]
    },
    {
      "cell_type": "markdown",
      "metadata": {
        "id": "kzyqQvq9wMWI"
      },
      "source": [
        "### Answers"
      ]
    },
    {
      "cell_type": "code",
      "metadata": {
        "id": "TBFoUxX3wMWJ"
      },
      "source": [
        "# 1. Your answers goes here: use as many code cells or text cell to have a nice presenatation of your solutions"
      ],
      "execution_count": null,
      "outputs": []
    },
    {
      "cell_type": "markdown",
      "metadata": {
        "id": "J0Y2C4bh360h"
      },
      "source": [
        "### Clustering"
      ]
    },
    {
      "cell_type": "markdown",
      "metadata": {
        "id": "kG4K2PtowM5n"
      },
      "source": [
        "\n",
        "\n",
        "---\n",
        "\n"
      ]
    },
    {
      "cell_type": "code",
      "metadata": {
        "id": "xy-LJLS4360h"
      },
      "source": [
        "#Data set for clustering\n"
      ],
      "execution_count": null,
      "outputs": []
    },
    {
      "cell_type": "code",
      "metadata": {
        "id": "Nf2hTJlW360i"
      },
      "source": [
        "#Kmeans Clustering\n"
      ],
      "execution_count": null,
      "outputs": []
    },
    {
      "cell_type": "code",
      "metadata": {
        "id": "chXpfTrs360i"
      },
      "source": [
        "#Custering Plots\n"
      ],
      "execution_count": null,
      "outputs": []
    },
    {
      "cell_type": "markdown",
      "metadata": {
        "id": "eDAcxjGq360i"
      },
      "source": [
        "## Classification"
      ]
    },
    {
      "cell_type": "code",
      "metadata": {
        "id": "8IYSzAz3-gub"
      },
      "source": [
        "#Data set for Classification"
      ],
      "execution_count": null,
      "outputs": []
    },
    {
      "cell_type": "code",
      "metadata": {
        "id": "GMOeZ--l360i"
      },
      "source": [
        "#Building Decision Tree Model on Iris Dataset\n"
      ],
      "execution_count": null,
      "outputs": []
    },
    {
      "cell_type": "code",
      "metadata": {
        "id": "deTMblnL360j"
      },
      "source": [
        "#Decision Tree Plot\n"
      ],
      "execution_count": null,
      "outputs": []
    },
    {
      "cell_type": "markdown",
      "metadata": {
        "id": "67mu26G7L7hT"
      },
      "source": [
        "\n",
        "\n",
        "---\n",
        "\n"
      ]
    }
  ]
}
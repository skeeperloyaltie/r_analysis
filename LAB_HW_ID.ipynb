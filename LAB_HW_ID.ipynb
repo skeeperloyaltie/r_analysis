{
  "nbformat": 4,
  "nbformat_minor": 0,
  "metadata": {
    "colab": {
      "name": " LAB_HW_ID.ipynb",
      "provenance": [],
      "collapsed_sections": [],
      "include_colab_link": true
    },
    "kernelspec": {
      "display_name": "R",
      "language": "R",
      "name": "ir"
    },
    "language_info": {
      "codemirror_mode": "r",
      "file_extension": ".r",
      "mimetype": "text/x-r-source",
      "name": "R",
      "pygments_lexer": "r",
      "version": "3.6.1"
    }
  },
  "cells": [
    {
      "cell_type": "markdown",
      "metadata": {
        "id": "view-in-github",
        "colab_type": "text"
      },
      "source": [
        "<a href=\"https://colab.research.google.com/github/skeeperloyaltie/r_analysis/blob/main/LAB_HW_ID.ipynb\" target=\"_parent\"><img src=\"https://colab.research.google.com/assets/colab-badge.svg\" alt=\"Open In Colab\"/></a>"
      ]
    },
    {
      "cell_type": "markdown",
      "metadata": {
        "id": "U8jqzMIdGDD_"
      },
      "source": [
        "\n",
        "\n",
        "---\n",
        "\n",
        "\n",
        "# CIT 466 Lab Homework #01\n",
        "* **Student Name**:___________\n",
        "* **Student ID**:__________\n",
        "\n",
        "Or\n",
        "\n",
        "* **Group ID:**\n",
        "            1.   **Student #1 ID & Name:**\n",
        "            2.   **Student #2 ID & Name:**\n",
        "\n",
        "* **Section**: CIT 466-XXX\n",
        "* **Grade**: Out 100. (10% of the whole Course Grade).\n",
        "* **Part I Mark**: 40%.\n",
        "* **Part II Mark**: 60%.\n",
        "* **Due Date**: Wednesday 18/11/2021  End of the Day \n",
        "\n",
        "\n",
        "---\n",
        "\n",
        "\n",
        "* **Lab#01 guidelines:**\n",
        " 1. Individual/Group submission of the ipynb file, link, and the PDF file\n",
        " 2. Replace the word \"**ID**\" in the filename `Lab#02_ID.ipynb` with your student ID in the name of the notebook\n",
        " 3. before converting to PDF share the link of your notebook and paste it as shown in th example below:\n",
        "> https://colab.research.google.com/drive/1ZkRswbjKFZH1z5sbv5RwhXZTXCJRZN8P?usp=sharing\n",
        "\n",
        "---\n",
        "\n",
        "\n",
        "* **Instructor**: Dr. Ikbal Taleb\n",
        "\n",
        "* **Zayed University**, **CTI**, `Data Analytics Course (c) Spring 2021`\n",
        "\n",
        "* **Versions**:\n",
        "          1.2 `Updated on 25 October 2021 at 15:40` \n",
        "          1.1 `Updated on 07 April 2021 at 20:40` \n",
        "          1.0 `Updated on 08 March 2021 at 23:00` \n",
        "\n",
        "\n",
        "---\n",
        "\n",
        "\n",
        "\n",
        "\n",
        "\n",
        "\n",
        "\n",
        "\n",
        "\n"
      ]
    },
    {
      "cell_type": "markdown",
      "metadata": {
        "id": "fFEstK5Z0OUL"
      },
      "source": [
        "# **Datasets**\n",
        "\n",
        "**Part I Dataset**\n",
        "***DataSet (csv format)***\n",
        "https://raw.githubusercontent.com/itechplus2020/Spring2021/main/Exasens.csv\n",
        "\n",
        "***DataSet Description (txt Format)***\n",
        "https://raw.githubusercontent.com/itechplus2020/Spring2021/main/Exasens.txt or [link](https://ieee-dataport.org/open-access/exasens-novel-dataset-classification-saliva-samples-copd-patients)\n",
        "\n",
        "**Part II Dataset(s)**\n",
        "Will be provided after finnishing Clustering Lecture Chapter. \n",
        "---\n",
        "\n"
      ]
    },
    {
      "cell_type": "markdown",
      "metadata": {
        "id": "fPhXUZ1bD4jP"
      },
      "source": [
        "# Part I -  Exploratory Data Analysis (EDA)\n",
        "\n",
        "\n",
        "A.   Data Exploration\n",
        "\n",
        "B.   Data Preparation\n",
        "\n",
        "C.   Data Vizualisation\n",
        "\n",
        "\n",
        "Tasks related to the previous activities:\n",
        "\n",
        "**A. Data Exploration**\n",
        "\n",
        "1.\tImport/load the dataset.\n",
        "2.\tSummarize it and explain the output.\n",
        "3.\tShow the structure and explain it.\n",
        "4.\tShow some data from the dataset.\n",
        "5.\tShow the frequency of some dataset variables of your choice you judge crucial and important (ex categorical variable if any) .\n",
        "6.\tShow the variable names and give a simple description of each.\n",
        "\n",
        "**B. Data Pre-Processing**\n",
        "\n",
        "1.\tIs there a class variable in the dataset? if yes what is it?\n",
        "2.\tChange the class variable type of the class variable to factor.\n",
        "3.\tIs there missing variables in the dataset.\n",
        "4.\tFind the position of each missing variable in the dataset.\n",
        "5.\tReplace the missing variables by 0.\n",
        "\n",
        "**C. Data Visualization**\n",
        "\n",
        "1.\tFind the correlation between the dataset variables and explain the output.\n",
        "2.\tPlot the correlation between variables.\n",
        "3.\tDo a barplot of important variables of the dataset \n",
        "4.  Use ggplot barplot function for the same variables and explain the output.\n",
        "4.\tBoxplot any variable of your choice of the dataset and explain the output\n",
        "\n",
        "\n"
      ]
    },
    {
      "cell_type": "markdown",
      "metadata": {
        "id": "qA92Q8IJI27u"
      },
      "source": [
        "### Answers"
      ]
    },
    {
      "cell_type": "code",
      "metadata": {
        "id": "wm8AXmzkD4jc",
        "colab": {
          "base_uri": "https://localhost:8080/"
        },
        "outputId": "01b8a1e6-3963-40dd-ed32-eeff5160dbc5"
      },
      "source": [
        "#1. Your answers goes here: use as many code cells or text cell to have a nice presenatation of your Answers or solutions (results, graphs and analysis)\n",
        "install.packages(\"corrplot\")"
      ],
      "execution_count": 74,
      "outputs": [
        {
          "output_type": "stream",
          "name": "stderr",
          "text": [
            "Installing package into ‘/usr/local/lib/R/site-library’\n",
            "(as ‘lib’ is unspecified)\n",
            "\n"
          ]
        }
      ]
    },
    {
      "cell_type": "markdown",
      "metadata": {
        "id": "i--MkfGw360S"
      },
      "source": [
        "## Data Exploration"
      ]
    },
    {
      "cell_type": "code",
      "metadata": {
        "id": "Y5Nshf_1360U",
        "colab": {
          "base_uri": "https://localhost:8080/"
        },
        "outputId": "71679a55-c7d9-43fb-bb3f-de3b86c6281d"
      },
      "source": [
        "# 1.\tImport/load the dataset.\n",
        "library(epiDisplay)\n",
        "library(plyr)\n",
        "library(gmodels)\n",
        "library(tidyverse)\n",
        "library(psych)\n",
        "library(corrplot)\n"
      ],
      "execution_count": 75,
      "outputs": [
        {
          "output_type": "stream",
          "name": "stderr",
          "text": [
            "corrplot 0.91 loaded\n",
            "\n"
          ]
        }
      ]
    },
    {
      "cell_type": "code",
      "metadata": {
        "id": "xYP93bz2dChi"
      },
      "source": [
        "ex <- read.csv(\"https://raw.githubusercontent.com/itechplus2020/Spring2021/main/Exasens.csv\")\n",
        "exa <- exa[, c(1,2,7,8,9)]"
      ],
      "execution_count": 44,
      "outputs": []
    },
    {
      "cell_type": "markdown",
      "metadata": {
        "id": "Zh3_CIF9wMFX"
      },
      "source": [
        "\n",
        "\n",
        "---\n",
        "\n"
      ]
    },
    {
      "cell_type": "code",
      "metadata": {
        "id": "c64_Ziuz360W",
        "colab": {
          "base_uri": "https://localhost:8080/",
          "height": 131
        },
        "outputId": "794187eb-9d33-4f16-ee0f-d7e98e18b5c3"
      },
      "source": [
        "#2.\tSummarize it and explain the output.\n",
        "summary(exa)"
      ],
      "execution_count": 45,
      "outputs": [
        {
          "output_type": "display_data",
          "data": {
            "text/plain": [
              "  Diagnosis              ID                Gender            Age        Smoking\n",
              " Length:399         Length:399         Min.   :0.0000   Min.   :17.00   1:179  \n",
              " Class :character   Class :character   1st Qu.:0.0000   1st Qu.:31.00   2:150  \n",
              " Mode  :character   Mode  :character   Median :0.0000   Median :49.00   3: 70  \n",
              "                                       Mean   :0.3985   Mean   :48.74          \n",
              "                                       3rd Qu.:1.0000   3rd Qu.:64.00          \n",
              "                                       Max.   :1.0000   Max.   :93.00          "
            ]
          },
          "metadata": {}
        }
      ]
    },
    {
      "cell_type": "code",
      "metadata": {
        "id": "1y4kRdZO360Y",
        "colab": {
          "base_uri": "https://localhost:8080/"
        },
        "outputId": "ad091bd6-e22f-47af-a7bf-1a7004dc2f5d"
      },
      "source": [
        "#3.\tShow the structure and explain it.\n",
        "str(exa)"
      ],
      "execution_count": 46,
      "outputs": [
        {
          "output_type": "stream",
          "name": "stdout",
          "text": [
            "'data.frame':\t399 obs. of  5 variables:\n",
            " $ Diagnosis: chr  \"COPD\" \"COPD\" \"COPD\" \"COPD\" ...\n",
            " $ ID       : chr  \"301-4\" \"302-3\" \"303-3\" \"304-4\" ...\n",
            " $ Gender   : int  1 0 1 1 0 1 1 1 1 1 ...\n",
            " $ Age      : int  77 72 73 76 65 60 76 77 74 67 ...\n",
            " $ Smoking  : Factor w/ 3 levels \"1\",\"2\",\"3\": 2 2 3 2 2 2 2 2 2 2 ...\n"
          ]
        }
      ]
    },
    {
      "cell_type": "code",
      "metadata": {
        "id": "7jbhgtHx360Z",
        "colab": {
          "base_uri": "https://localhost:8080/",
          "height": 276
        },
        "outputId": "1d1ca1fa-90f4-42c8-e124-b25f07d245a1"
      },
      "source": [
        "#4.\tShow some data from the dataset.\n",
        "head(exa)"
      ],
      "execution_count": 47,
      "outputs": [
        {
          "output_type": "display_data",
          "data": {
            "text/plain": [
              "  Diagnosis ID    Gender Age Smoking\n",
              "1 COPD      301-4 1      77  2      \n",
              "2 COPD      302-3 0      72  2      \n",
              "3 COPD      303-3 1      73  3      \n",
              "4 COPD      304-4 1      76  2      \n",
              "5 COPD      305-4 0      65  2      \n",
              "6 COPD      306-3 1      60  2      "
            ],
            "text/latex": "A data.frame: 6 × 5\n\\begin{tabular}{r|lllll}\n  & Diagnosis & ID & Gender & Age & Smoking\\\\\n  & <chr> & <chr> & <int> & <int> & <fct>\\\\\n\\hline\n\t1 & COPD & 301-4 & 1 & 77 & 2\\\\\n\t2 & COPD & 302-3 & 0 & 72 & 2\\\\\n\t3 & COPD & 303-3 & 1 & 73 & 3\\\\\n\t4 & COPD & 304-4 & 1 & 76 & 2\\\\\n\t5 & COPD & 305-4 & 0 & 65 & 2\\\\\n\t6 & COPD & 306-3 & 1 & 60 & 2\\\\\n\\end{tabular}\n",
            "text/markdown": "\nA data.frame: 6 × 5\n\n| <!--/--> | Diagnosis &lt;chr&gt; | ID &lt;chr&gt; | Gender &lt;int&gt; | Age &lt;int&gt; | Smoking &lt;fct&gt; |\n|---|---|---|---|---|---|\n| 1 | COPD | 301-4 | 1 | 77 | 2 |\n| 2 | COPD | 302-3 | 0 | 72 | 2 |\n| 3 | COPD | 303-3 | 1 | 73 | 3 |\n| 4 | COPD | 304-4 | 1 | 76 | 2 |\n| 5 | COPD | 305-4 | 0 | 65 | 2 |\n| 6 | COPD | 306-3 | 1 | 60 | 2 |\n\n",
            "text/html": [
              "<table class=\"dataframe\">\n",
              "<caption>A data.frame: 6 × 5</caption>\n",
              "<thead>\n",
              "\t<tr><th></th><th scope=col>Diagnosis</th><th scope=col>ID</th><th scope=col>Gender</th><th scope=col>Age</th><th scope=col>Smoking</th></tr>\n",
              "\t<tr><th></th><th scope=col>&lt;chr&gt;</th><th scope=col>&lt;chr&gt;</th><th scope=col>&lt;int&gt;</th><th scope=col>&lt;int&gt;</th><th scope=col>&lt;fct&gt;</th></tr>\n",
              "</thead>\n",
              "<tbody>\n",
              "\t<tr><th scope=row>1</th><td>COPD</td><td>301-4</td><td>1</td><td>77</td><td>2</td></tr>\n",
              "\t<tr><th scope=row>2</th><td>COPD</td><td>302-3</td><td>0</td><td>72</td><td>2</td></tr>\n",
              "\t<tr><th scope=row>3</th><td>COPD</td><td>303-3</td><td>1</td><td>73</td><td>3</td></tr>\n",
              "\t<tr><th scope=row>4</th><td>COPD</td><td>304-4</td><td>1</td><td>76</td><td>2</td></tr>\n",
              "\t<tr><th scope=row>5</th><td>COPD</td><td>305-4</td><td>0</td><td>65</td><td>2</td></tr>\n",
              "\t<tr><th scope=row>6</th><td>COPD</td><td>306-3</td><td>1</td><td>60</td><td>2</td></tr>\n",
              "</tbody>\n",
              "</table>\n"
            ]
          },
          "metadata": {}
        }
      ]
    },
    {
      "cell_type": "code",
      "metadata": {
        "id": "h03yesdB360a",
        "colab": {
          "base_uri": "https://localhost:8080/"
        },
        "outputId": "f7f08e0b-8373-4fde-847c-91797ce10028"
      },
      "source": [
        "#5.\tShow the frequency of some dataset variables of your choice you judge crucial and important (ex categorical variable if any) .\n",
        "CrossTable(exa$Age, exa$Gender, prop.t = TRUE, prop.r = TRUE, prop.c = TRUE)\n"
      ],
      "execution_count": 48,
      "outputs": [
        {
          "output_type": "stream",
          "name": "stdout",
          "text": [
            "\n",
            " \n",
            "   Cell Contents\n",
            "|-------------------------|\n",
            "|                       N |\n",
            "| Chi-square contribution |\n",
            "|           N / Row Total |\n",
            "|           N / Col Total |\n",
            "|         N / Table Total |\n",
            "|-------------------------|\n",
            "\n",
            " \n",
            "Total Observations in Table:  399 \n",
            "\n",
            " \n",
            "             | exa$Gender \n",
            "     exa$Age |         0 |         1 | Row Total | \n",
            "-------------|-----------|-----------|-----------|\n",
            "          17 |         3 |         0 |         3 | \n",
            "             |     0.792 |     1.195 |           | \n",
            "             |     1.000 |     0.000 |     0.008 | \n",
            "             |     0.013 |     0.000 |           | \n",
            "             |     0.008 |     0.000 |           | \n",
            "-------------|-----------|-----------|-----------|\n",
            "          18 |         3 |         2 |         5 | \n",
            "             |     0.000 |     0.000 |           | \n",
            "             |     0.600 |     0.400 |     0.013 | \n",
            "             |     0.013 |     0.013 |           | \n",
            "             |     0.008 |     0.005 |           | \n",
            "-------------|-----------|-----------|-----------|\n",
            "          19 |         1 |         4 |         5 | \n",
            "             |     1.340 |     2.023 |           | \n",
            "             |     0.200 |     0.800 |     0.013 | \n",
            "             |     0.004 |     0.025 |           | \n",
            "             |     0.003 |     0.010 |           | \n",
            "-------------|-----------|-----------|-----------|\n",
            "          20 |         1 |         1 |         2 | \n",
            "             |     0.034 |     0.052 |           | \n",
            "             |     0.500 |     0.500 |     0.005 | \n",
            "             |     0.004 |     0.006 |           | \n",
            "             |     0.003 |     0.003 |           | \n",
            "-------------|-----------|-----------|-----------|\n",
            "          21 |         6 |         0 |         6 | \n",
            "             |     1.584 |     2.391 |           | \n",
            "             |     1.000 |     0.000 |     0.015 | \n",
            "             |     0.025 |     0.000 |           | \n",
            "             |     0.015 |     0.000 |           | \n",
            "-------------|-----------|-----------|-----------|\n",
            "          22 |         7 |         2 |         9 | \n",
            "             |     0.465 |     0.702 |           | \n",
            "             |     0.778 |     0.222 |     0.023 | \n",
            "             |     0.029 |     0.013 |           | \n",
            "             |     0.018 |     0.005 |           | \n",
            "-------------|-----------|-----------|-----------|\n",
            "          23 |         3 |         0 |         3 | \n",
            "             |     0.792 |     1.195 |           | \n",
            "             |     1.000 |     0.000 |     0.008 | \n",
            "             |     0.013 |     0.000 |           | \n",
            "             |     0.008 |     0.000 |           | \n",
            "-------------|-----------|-----------|-----------|\n",
            "          24 |         3 |         0 |         3 | \n",
            "             |     0.792 |     1.195 |           | \n",
            "             |     1.000 |     0.000 |     0.008 | \n",
            "             |     0.013 |     0.000 |           | \n",
            "             |     0.008 |     0.000 |           | \n",
            "-------------|-----------|-----------|-----------|\n",
            "          25 |        11 |         1 |        12 | \n",
            "             |     1.982 |     2.991 |           | \n",
            "             |     0.917 |     0.083 |     0.030 | \n",
            "             |     0.046 |     0.006 |           | \n",
            "             |     0.028 |     0.003 |           | \n",
            "-------------|-----------|-----------|-----------|\n",
            "          26 |         3 |         0 |         3 | \n",
            "             |     0.792 |     1.195 |           | \n",
            "             |     1.000 |     0.000 |     0.008 | \n",
            "             |     0.013 |     0.000 |           | \n",
            "             |     0.008 |     0.000 |           | \n",
            "-------------|-----------|-----------|-----------|\n",
            "          27 |         6 |         8 |        14 | \n",
            "             |     0.696 |     1.051 |           | \n",
            "             |     0.429 |     0.571 |     0.035 | \n",
            "             |     0.025 |     0.050 |           | \n",
            "             |     0.015 |     0.020 |           | \n",
            "-------------|-----------|-----------|-----------|\n",
            "          28 |        11 |         3 |        14 | \n",
            "             |     0.790 |     1.192 |           | \n",
            "             |     0.786 |     0.214 |     0.035 | \n",
            "             |     0.046 |     0.019 |           | \n",
            "             |     0.028 |     0.008 |           | \n",
            "-------------|-----------|-----------|-----------|\n",
            "          29 |         6 |         6 |        12 | \n",
            "             |     0.206 |     0.310 |           | \n",
            "             |     0.500 |     0.500 |     0.030 | \n",
            "             |     0.025 |     0.038 |           | \n",
            "             |     0.015 |     0.015 |           | \n",
            "-------------|-----------|-----------|-----------|\n",
            "          30 |         4 |         2 |         6 | \n",
            "             |     0.042 |     0.064 |           | \n",
            "             |     0.667 |     0.333 |     0.015 | \n",
            "             |     0.017 |     0.013 |           | \n",
            "             |     0.010 |     0.005 |           | \n",
            "-------------|-----------|-----------|-----------|\n",
            "          31 |         4 |         1 |         5 | \n",
            "             |     0.328 |     0.494 |           | \n",
            "             |     0.800 |     0.200 |     0.013 | \n",
            "             |     0.017 |     0.006 |           | \n",
            "             |     0.010 |     0.003 |           | \n",
            "-------------|-----------|-----------|-----------|\n",
            "          32 |         0 |         1 |         1 | \n",
            "             |     0.602 |     0.908 |           | \n",
            "             |     0.000 |     1.000 |     0.003 | \n",
            "             |     0.000 |     0.006 |           | \n",
            "             |     0.000 |     0.003 |           | \n",
            "-------------|-----------|-----------|-----------|\n",
            "          33 |         3 |         2 |         5 | \n",
            "             |     0.000 |     0.000 |           | \n",
            "             |     0.600 |     0.400 |     0.013 | \n",
            "             |     0.013 |     0.013 |           | \n",
            "             |     0.008 |     0.005 |           | \n",
            "-------------|-----------|-----------|-----------|\n",
            "          34 |         2 |         1 |         3 | \n",
            "             |     0.021 |     0.032 |           | \n",
            "             |     0.667 |     0.333 |     0.008 | \n",
            "             |     0.008 |     0.006 |           | \n",
            "             |     0.005 |     0.003 |           | \n",
            "-------------|-----------|-----------|-----------|\n",
            "          35 |         4 |         1 |         5 | \n",
            "             |     0.328 |     0.494 |           | \n",
            "             |     0.800 |     0.200 |     0.013 | \n",
            "             |     0.017 |     0.006 |           | \n",
            "             |     0.010 |     0.003 |           | \n",
            "-------------|-----------|-----------|-----------|\n",
            "          36 |         0 |         2 |         2 | \n",
            "             |     1.203 |     1.816 |           | \n",
            "             |     0.000 |     1.000 |     0.005 | \n",
            "             |     0.000 |     0.013 |           | \n",
            "             |     0.000 |     0.005 |           | \n",
            "-------------|-----------|-----------|-----------|\n",
            "          37 |         6 |         3 |         9 | \n",
            "             |     0.064 |     0.096 |           | \n",
            "             |     0.667 |     0.333 |     0.023 | \n",
            "             |     0.025 |     0.019 |           | \n",
            "             |     0.015 |     0.008 |           | \n",
            "-------------|-----------|-----------|-----------|\n",
            "          38 |         6 |         3 |         9 | \n",
            "             |     0.064 |     0.096 |           | \n",
            "             |     0.667 |     0.333 |     0.023 | \n",
            "             |     0.025 |     0.019 |           | \n",
            "             |     0.015 |     0.008 |           | \n",
            "-------------|-----------|-----------|-----------|\n",
            "          39 |         8 |         2 |        10 | \n",
            "             |     0.655 |     0.989 |           | \n",
            "             |     0.800 |     0.200 |     0.025 | \n",
            "             |     0.033 |     0.013 |           | \n",
            "             |     0.020 |     0.005 |           | \n",
            "-------------|-----------|-----------|-----------|\n",
            "          40 |         8 |         2 |        10 | \n",
            "             |     0.655 |     0.989 |           | \n",
            "             |     0.800 |     0.200 |     0.025 | \n",
            "             |     0.033 |     0.013 |           | \n",
            "             |     0.020 |     0.005 |           | \n",
            "-------------|-----------|-----------|-----------|\n",
            "          41 |         3 |         2 |         5 | \n",
            "             |     0.000 |     0.000 |           | \n",
            "             |     0.600 |     0.400 |     0.013 | \n",
            "             |     0.013 |     0.013 |           | \n",
            "             |     0.008 |     0.005 |           | \n",
            "-------------|-----------|-----------|-----------|\n",
            "          42 |         2 |         1 |         3 | \n",
            "             |     0.021 |     0.032 |           | \n",
            "             |     0.667 |     0.333 |     0.008 | \n",
            "             |     0.008 |     0.006 |           | \n",
            "             |     0.005 |     0.003 |           | \n",
            "-------------|-----------|-----------|-----------|\n",
            "          43 |         1 |         3 |         4 | \n",
            "             |     0.822 |     1.240 |           | \n",
            "             |     0.250 |     0.750 |     0.010 | \n",
            "             |     0.004 |     0.019 |           | \n",
            "             |     0.003 |     0.008 |           | \n",
            "-------------|-----------|-----------|-----------|\n",
            "          44 |         1 |         1 |         2 | \n",
            "             |     0.034 |     0.052 |           | \n",
            "             |     0.500 |     0.500 |     0.005 | \n",
            "             |     0.004 |     0.006 |           | \n",
            "             |     0.003 |     0.003 |           | \n",
            "-------------|-----------|-----------|-----------|\n",
            "          45 |         7 |         1 |         8 | \n",
            "             |     0.995 |     1.502 |           | \n",
            "             |     0.875 |     0.125 |     0.020 | \n",
            "             |     0.029 |     0.006 |           | \n",
            "             |     0.018 |     0.003 |           | \n",
            "-------------|-----------|-----------|-----------|\n",
            "          46 |         3 |         1 |         4 | \n",
            "             |     0.147 |     0.221 |           | \n",
            "             |     0.750 |     0.250 |     0.010 | \n",
            "             |     0.013 |     0.006 |           | \n",
            "             |     0.008 |     0.003 |           | \n",
            "-------------|-----------|-----------|-----------|\n",
            "          47 |         1 |         2 |         3 | \n",
            "             |     0.359 |     0.541 |           | \n",
            "             |     0.333 |     0.667 |     0.008 | \n",
            "             |     0.004 |     0.013 |           | \n",
            "             |     0.003 |     0.005 |           | \n",
            "-------------|-----------|-----------|-----------|\n",
            "          48 |         3 |         2 |         5 | \n",
            "             |     0.000 |     0.000 |           | \n",
            "             |     0.600 |     0.400 |     0.013 | \n",
            "             |     0.013 |     0.013 |           | \n",
            "             |     0.008 |     0.005 |           | \n",
            "-------------|-----------|-----------|-----------|\n",
            "          49 |         7 |         4 |        11 | \n",
            "             |     0.022 |     0.034 |           | \n",
            "             |     0.636 |     0.364 |     0.028 | \n",
            "             |     0.029 |     0.025 |           | \n",
            "             |     0.018 |     0.010 |           | \n",
            "-------------|-----------|-----------|-----------|\n",
            "          50 |         5 |         2 |         7 | \n",
            "             |     0.148 |     0.223 |           | \n",
            "             |     0.714 |     0.286 |     0.018 | \n",
            "             |     0.021 |     0.013 |           | \n",
            "             |     0.013 |     0.005 |           | \n",
            "-------------|-----------|-----------|-----------|\n",
            "          51 |         9 |         6 |        15 | \n",
            "             |     0.000 |     0.000 |           | \n",
            "             |     0.600 |     0.400 |     0.038 | \n",
            "             |     0.037 |     0.038 |           | \n",
            "             |     0.023 |     0.015 |           | \n",
            "-------------|-----------|-----------|-----------|\n",
            "          52 |         2 |         3 |         5 | \n",
            "             |     0.338 |     0.509 |           | \n",
            "             |     0.400 |     0.600 |     0.013 | \n",
            "             |     0.008 |     0.019 |           | \n",
            "             |     0.005 |     0.008 |           | \n",
            "-------------|-----------|-----------|-----------|\n",
            "          53 |         5 |         7 |        12 | \n",
            "             |     0.682 |     1.029 |           | \n",
            "             |     0.417 |     0.583 |     0.030 | \n",
            "             |     0.021 |     0.044 |           | \n",
            "             |     0.013 |     0.018 |           | \n",
            "-------------|-----------|-----------|-----------|\n",
            "          54 |         4 |         0 |         4 | \n",
            "             |     1.056 |     1.594 |           | \n",
            "             |     1.000 |     0.000 |     0.010 | \n",
            "             |     0.017 |     0.000 |           | \n",
            "             |     0.010 |     0.000 |           | \n",
            "-------------|-----------|-----------|-----------|\n",
            "          55 |         5 |         1 |         6 | \n",
            "             |     0.536 |     0.809 |           | \n",
            "             |     0.833 |     0.167 |     0.015 | \n",
            "             |     0.021 |     0.006 |           | \n",
            "             |     0.013 |     0.003 |           | \n",
            "-------------|-----------|-----------|-----------|\n",
            "          56 |         8 |         0 |         8 | \n",
            "             |     2.112 |     3.188 |           | \n",
            "             |     1.000 |     0.000 |     0.020 | \n",
            "             |     0.033 |     0.000 |           | \n",
            "             |     0.020 |     0.000 |           | \n",
            "-------------|-----------|-----------|-----------|\n",
            "          57 |         5 |         3 |         8 | \n",
            "             |     0.007 |     0.011 |           | \n",
            "             |     0.625 |     0.375 |     0.020 | \n",
            "             |     0.021 |     0.019 |           | \n",
            "             |     0.013 |     0.008 |           | \n",
            "-------------|-----------|-----------|-----------|\n",
            "          58 |         8 |         0 |         8 | \n",
            "             |     2.112 |     3.188 |           | \n",
            "             |     1.000 |     0.000 |     0.020 | \n",
            "             |     0.033 |     0.000 |           | \n",
            "             |     0.020 |     0.000 |           | \n",
            "-------------|-----------|-----------|-----------|\n",
            "          59 |         2 |         0 |         2 | \n",
            "             |     0.528 |     0.797 |           | \n",
            "             |     1.000 |     0.000 |     0.005 | \n",
            "             |     0.008 |     0.000 |           | \n",
            "             |     0.005 |     0.000 |           | \n",
            "-------------|-----------|-----------|-----------|\n",
            "          60 |         2 |         2 |         4 | \n",
            "             |     0.069 |     0.103 |           | \n",
            "             |     0.500 |     0.500 |     0.010 | \n",
            "             |     0.008 |     0.013 |           | \n",
            "             |     0.005 |     0.005 |           | \n",
            "-------------|-----------|-----------|-----------|\n",
            "          61 |         2 |         1 |         3 | \n",
            "             |     0.021 |     0.032 |           | \n",
            "             |     0.667 |     0.333 |     0.008 | \n",
            "             |     0.008 |     0.006 |           | \n",
            "             |     0.005 |     0.003 |           | \n",
            "-------------|-----------|-----------|-----------|\n",
            "          62 |         2 |         2 |         4 | \n",
            "             |     0.069 |     0.103 |           | \n",
            "             |     0.500 |     0.500 |     0.010 | \n",
            "             |     0.008 |     0.013 |           | \n",
            "             |     0.005 |     0.005 |           | \n",
            "-------------|-----------|-----------|-----------|\n",
            "          63 |         6 |         2 |         8 | \n",
            "             |     0.293 |     0.443 |           | \n",
            "             |     0.750 |     0.250 |     0.020 | \n",
            "             |     0.025 |     0.013 |           | \n",
            "             |     0.015 |     0.005 |           | \n",
            "-------------|-----------|-----------|-----------|\n",
            "          64 |         4 |         5 |         9 | \n",
            "             |     0.369 |     0.557 |           | \n",
            "             |     0.444 |     0.556 |     0.023 | \n",
            "             |     0.017 |     0.031 |           | \n",
            "             |     0.010 |     0.013 |           | \n",
            "-------------|-----------|-----------|-----------|\n",
            "          65 |         4 |         5 |         9 | \n",
            "             |     0.369 |     0.557 |           | \n",
            "             |     0.444 |     0.556 |     0.023 | \n",
            "             |     0.017 |     0.031 |           | \n",
            "             |     0.010 |     0.013 |           | \n",
            "-------------|-----------|-----------|-----------|\n",
            "          66 |         0 |         2 |         2 | \n",
            "             |     1.203 |     1.816 |           | \n",
            "             |     0.000 |     1.000 |     0.005 | \n",
            "             |     0.000 |     0.013 |           | \n",
            "             |     0.000 |     0.005 |           | \n",
            "-------------|-----------|-----------|-----------|\n",
            "          67 |         1 |         4 |         5 | \n",
            "             |     1.340 |     2.023 |           | \n",
            "             |     0.200 |     0.800 |     0.013 | \n",
            "             |     0.004 |     0.025 |           | \n",
            "             |     0.003 |     0.010 |           | \n",
            "-------------|-----------|-----------|-----------|\n",
            "          68 |         4 |         4 |         8 | \n",
            "             |     0.137 |     0.207 |           | \n",
            "             |     0.500 |     0.500 |     0.020 | \n",
            "             |     0.017 |     0.025 |           | \n",
            "             |     0.010 |     0.010 |           | \n",
            "-------------|-----------|-----------|-----------|\n",
            "          69 |         0 |         3 |         3 | \n",
            "             |     1.805 |     2.724 |           | \n",
            "             |     0.000 |     1.000 |     0.008 | \n",
            "             |     0.000 |     0.019 |           | \n",
            "             |     0.000 |     0.008 |           | \n",
            "-------------|-----------|-----------|-----------|\n",
            "          70 |         2 |         1 |         3 | \n",
            "             |     0.021 |     0.032 |           | \n",
            "             |     0.667 |     0.333 |     0.008 | \n",
            "             |     0.008 |     0.006 |           | \n",
            "             |     0.005 |     0.003 |           | \n",
            "-------------|-----------|-----------|-----------|\n",
            "          71 |         1 |         1 |         2 | \n",
            "             |     0.034 |     0.052 |           | \n",
            "             |     0.500 |     0.500 |     0.005 | \n",
            "             |     0.004 |     0.006 |           | \n",
            "             |     0.003 |     0.003 |           | \n",
            "-------------|-----------|-----------|-----------|\n",
            "          72 |         3 |         3 |         6 | \n",
            "             |     0.103 |     0.155 |           | \n",
            "             |     0.500 |     0.500 |     0.015 | \n",
            "             |     0.013 |     0.019 |           | \n",
            "             |     0.008 |     0.008 |           | \n",
            "-------------|-----------|-----------|-----------|\n",
            "          73 |         1 |         4 |         5 | \n",
            "             |     1.340 |     2.023 |           | \n",
            "             |     0.200 |     0.800 |     0.013 | \n",
            "             |     0.004 |     0.025 |           | \n",
            "             |     0.003 |     0.010 |           | \n",
            "-------------|-----------|-----------|-----------|\n",
            "          74 |         0 |         3 |         3 | \n",
            "             |     1.805 |     2.724 |           | \n",
            "             |     0.000 |     1.000 |     0.008 | \n",
            "             |     0.000 |     0.019 |           | \n",
            "             |     0.000 |     0.008 |           | \n",
            "-------------|-----------|-----------|-----------|\n",
            "          75 |         4 |         7 |        11 | \n",
            "             |     1.035 |     1.562 |           | \n",
            "             |     0.364 |     0.636 |     0.028 | \n",
            "             |     0.017 |     0.044 |           | \n",
            "             |     0.010 |     0.018 |           | \n",
            "-------------|-----------|-----------|-----------|\n",
            "          76 |         5 |         4 |         9 | \n",
            "             |     0.032 |     0.048 |           | \n",
            "             |     0.556 |     0.444 |     0.023 | \n",
            "             |     0.021 |     0.025 |           | \n",
            "             |     0.013 |     0.010 |           | \n",
            "-------------|-----------|-----------|-----------|\n",
            "          77 |         2 |         7 |         9 | \n",
            "             |     2.152 |     3.249 |           | \n",
            "             |     0.222 |     0.778 |     0.023 | \n",
            "             |     0.008 |     0.044 |           | \n",
            "             |     0.005 |     0.018 |           | \n",
            "-------------|-----------|-----------|-----------|\n",
            "          78 |         0 |         4 |         4 | \n",
            "             |     2.406 |     3.632 |           | \n",
            "             |     0.000 |     1.000 |     0.010 | \n",
            "             |     0.000 |     0.025 |           | \n",
            "             |     0.000 |     0.010 |           | \n",
            "-------------|-----------|-----------|-----------|\n",
            "          79 |         3 |         0 |         3 | \n",
            "             |     0.792 |     1.195 |           | \n",
            "             |     1.000 |     0.000 |     0.008 | \n",
            "             |     0.013 |     0.000 |           | \n",
            "             |     0.008 |     0.000 |           | \n",
            "-------------|-----------|-----------|-----------|\n",
            "          80 |         0 |         2 |         2 | \n",
            "             |     1.203 |     1.816 |           | \n",
            "             |     0.000 |     1.000 |     0.005 | \n",
            "             |     0.000 |     0.013 |           | \n",
            "             |     0.000 |     0.005 |           | \n",
            "-------------|-----------|-----------|-----------|\n",
            "          81 |         2 |         2 |         4 | \n",
            "             |     0.069 |     0.103 |           | \n",
            "             |     0.500 |     0.500 |     0.010 | \n",
            "             |     0.008 |     0.013 |           | \n",
            "             |     0.005 |     0.005 |           | \n",
            "-------------|-----------|-----------|-----------|\n",
            "          84 |         1 |         1 |         2 | \n",
            "             |     0.034 |     0.052 |           | \n",
            "             |     0.500 |     0.500 |     0.005 | \n",
            "             |     0.004 |     0.006 |           | \n",
            "             |     0.003 |     0.003 |           | \n",
            "-------------|-----------|-----------|-----------|\n",
            "          85 |         0 |         2 |         2 | \n",
            "             |     1.203 |     1.816 |           | \n",
            "             |     0.000 |     1.000 |     0.005 | \n",
            "             |     0.000 |     0.013 |           | \n",
            "             |     0.000 |     0.005 |           | \n",
            "-------------|-----------|-----------|-----------|\n",
            "          86 |         1 |         0 |         1 | \n",
            "             |     0.264 |     0.398 |           | \n",
            "             |     1.000 |     0.000 |     0.003 | \n",
            "             |     0.004 |     0.000 |           | \n",
            "             |     0.003 |     0.000 |           | \n",
            "-------------|-----------|-----------|-----------|\n",
            "          88 |         0 |         1 |         1 | \n",
            "             |     0.602 |     0.908 |           | \n",
            "             |     0.000 |     1.000 |     0.003 | \n",
            "             |     0.000 |     0.006 |           | \n",
            "             |     0.000 |     0.003 |           | \n",
            "-------------|-----------|-----------|-----------|\n",
            "          93 |         0 |         1 |         1 | \n",
            "             |     0.602 |     0.908 |           | \n",
            "             |     0.000 |     1.000 |     0.003 | \n",
            "             |     0.000 |     0.006 |           | \n",
            "             |     0.000 |     0.003 |           | \n",
            "-------------|-----------|-----------|-----------|\n",
            "Column Total |       240 |       159 |       399 | \n",
            "             |     0.602 |     0.398 |           | \n",
            "-------------|-----------|-----------|-----------|\n",
            "\n",
            " \n"
          ]
        }
      ]
    },
    {
      "cell_type": "code",
      "metadata": {
        "colab": {
          "base_uri": "https://localhost:8080/"
        },
        "id": "PpZsAKFEuSQG",
        "outputId": "e3b6764d-8e24-4ace-d966-3dc9252e7fab"
      },
      "source": [
        "CrossTable(exa$Smoking, exa$Age,  prop.t = TRUE, prop.r = TRUE, prop.c = TRUE)"
      ],
      "execution_count": 49,
      "outputs": [
        {
          "output_type": "stream",
          "name": "stdout",
          "text": [
            "\n",
            " \n",
            "   Cell Contents\n",
            "|-------------------------|\n",
            "|                       N |\n",
            "| Chi-square contribution |\n",
            "|           N / Row Total |\n",
            "|           N / Col Total |\n",
            "|         N / Table Total |\n",
            "|-------------------------|\n",
            "\n",
            " \n",
            "Total Observations in Table:  399 \n",
            "\n",
            " \n",
            "             | exa$Age \n",
            " exa$Smoking |        17 |        18 |        19 |        20 |        21 |        22 |        23 |        24 |        25 |        26 |        27 |        28 |        29 |        30 |        31 |        32 |        33 |        34 |        35 |        36 |        37 |        38 |        39 |        40 |        41 |        42 |        43 |        44 |        45 |        46 |        47 |        48 |        49 |        50 |        51 |        52 |        53 |        54 |        55 |        56 |        57 |        58 |        59 |        60 |        61 |        62 |        63 |        64 |        65 |        66 |        67 |        68 |        69 |        70 |        71 |        72 |        73 |        74 |        75 |        76 |        77 |        78 |        79 |        80 |        81 |        84 |        85 |        86 |        88 |        93 | Row Total | \n",
            "-------------|-----------|-----------|-----------|-----------|-----------|-----------|-----------|-----------|-----------|-----------|-----------|-----------|-----------|-----------|-----------|-----------|-----------|-----------|-----------|-----------|-----------|-----------|-----------|-----------|-----------|-----------|-----------|-----------|-----------|-----------|-----------|-----------|-----------|-----------|-----------|-----------|-----------|-----------|-----------|-----------|-----------|-----------|-----------|-----------|-----------|-----------|-----------|-----------|-----------|-----------|-----------|-----------|-----------|-----------|-----------|-----------|-----------|-----------|-----------|-----------|-----------|-----------|-----------|-----------|-----------|-----------|-----------|-----------|-----------|-----------|-----------|\n",
            "           1 |         0 |         5 |         3 |         2 |         4 |         5 |         3 |         3 |         7 |         3 |        13 |         6 |        10 |         3 |         3 |         1 |         3 |         2 |         3 |         2 |         6 |         4 |         5 |         2 |         2 |         1 |         3 |         2 |         2 |         2 |         1 |         1 |         3 |         5 |         5 |         2 |         3 |         0 |         4 |         3 |         4 |         7 |         0 |         1 |         1 |         3 |         2 |         4 |         0 |         0 |         1 |         2 |         0 |         0 |         0 |         1 |         4 |         0 |         4 |         0 |         1 |         1 |         2 |         2 |         2 |         0 |         0 |         0 |         0 |         0 |       179 | \n",
            "             |     1.346 |     3.388 |     0.255 |     1.355 |     0.636 |     0.229 |     2.033 |     2.033 |     0.485 |     2.033 |     7.189 |     0.013 |     3.959 |     0.035 |     0.255 |     0.678 |     0.255 |     0.318 |     0.255 |     1.355 |     0.954 |     0.000 |     0.059 |     1.378 |     0.026 |     0.089 |     0.810 |     1.355 |     0.703 |     0.024 |     0.089 |     0.689 |     0.759 |     1.101 |     0.444 |     0.026 |     1.055 |     1.794 |     0.636 |     0.097 |     0.047 |     3.242 |     0.897 |     0.352 |     0.089 |     0.810 |     0.703 |     0.000 |     4.038 |     0.897 |     0.689 |     0.703 |     1.346 |     1.346 |     0.897 |     1.063 |     1.376 |     1.346 |     0.177 |     4.038 |     2.285 |     0.352 |     0.318 |     1.355 |     0.024 |     0.897 |     0.897 |     0.449 |     0.449 |     0.449 |           | \n",
            "             |     0.000 |     0.028 |     0.017 |     0.011 |     0.022 |     0.028 |     0.017 |     0.017 |     0.039 |     0.017 |     0.073 |     0.034 |     0.056 |     0.017 |     0.017 |     0.006 |     0.017 |     0.011 |     0.017 |     0.011 |     0.034 |     0.022 |     0.028 |     0.011 |     0.011 |     0.006 |     0.017 |     0.011 |     0.011 |     0.011 |     0.006 |     0.006 |     0.017 |     0.028 |     0.028 |     0.011 |     0.017 |     0.000 |     0.022 |     0.017 |     0.022 |     0.039 |     0.000 |     0.006 |     0.006 |     0.017 |     0.011 |     0.022 |     0.000 |     0.000 |     0.006 |     0.011 |     0.000 |     0.000 |     0.000 |     0.006 |     0.022 |     0.000 |     0.022 |     0.000 |     0.006 |     0.006 |     0.011 |     0.011 |     0.011 |     0.000 |     0.000 |     0.000 |     0.000 |     0.000 |     0.449 | \n",
            "             |     0.000 |     1.000 |     0.600 |     1.000 |     0.667 |     0.556 |     1.000 |     1.000 |     0.583 |     1.000 |     0.929 |     0.429 |     0.833 |     0.500 |     0.600 |     1.000 |     0.600 |     0.667 |     0.600 |     1.000 |     0.667 |     0.444 |     0.500 |     0.200 |     0.400 |     0.333 |     0.750 |     1.000 |     0.250 |     0.500 |     0.333 |     0.200 |     0.273 |     0.714 |     0.333 |     0.400 |     0.250 |     0.000 |     0.667 |     0.375 |     0.500 |     0.875 |     0.000 |     0.250 |     0.333 |     0.750 |     0.250 |     0.444 |     0.000 |     0.000 |     0.200 |     0.250 |     0.000 |     0.000 |     0.000 |     0.167 |     0.800 |     0.000 |     0.364 |     0.000 |     0.111 |     0.250 |     0.667 |     1.000 |     0.500 |     0.000 |     0.000 |     0.000 |     0.000 |     0.000 |           | \n",
            "             |     0.000 |     0.013 |     0.008 |     0.005 |     0.010 |     0.013 |     0.008 |     0.008 |     0.018 |     0.008 |     0.033 |     0.015 |     0.025 |     0.008 |     0.008 |     0.003 |     0.008 |     0.005 |     0.008 |     0.005 |     0.015 |     0.010 |     0.013 |     0.005 |     0.005 |     0.003 |     0.008 |     0.005 |     0.005 |     0.005 |     0.003 |     0.003 |     0.008 |     0.013 |     0.013 |     0.005 |     0.008 |     0.000 |     0.010 |     0.008 |     0.010 |     0.018 |     0.000 |     0.003 |     0.003 |     0.008 |     0.005 |     0.010 |     0.000 |     0.000 |     0.003 |     0.005 |     0.000 |     0.000 |     0.000 |     0.003 |     0.010 |     0.000 |     0.010 |     0.000 |     0.003 |     0.003 |     0.005 |     0.005 |     0.005 |     0.000 |     0.000 |     0.000 |     0.000 |     0.000 |           | \n",
            "-------------|-----------|-----------|-----------|-----------|-----------|-----------|-----------|-----------|-----------|-----------|-----------|-----------|-----------|-----------|-----------|-----------|-----------|-----------|-----------|-----------|-----------|-----------|-----------|-----------|-----------|-----------|-----------|-----------|-----------|-----------|-----------|-----------|-----------|-----------|-----------|-----------|-----------|-----------|-----------|-----------|-----------|-----------|-----------|-----------|-----------|-----------|-----------|-----------|-----------|-----------|-----------|-----------|-----------|-----------|-----------|-----------|-----------|-----------|-----------|-----------|-----------|-----------|-----------|-----------|-----------|-----------|-----------|-----------|-----------|-----------|-----------|\n",
            "           2 |         0 |         0 |         0 |         0 |         0 |         2 |         0 |         0 |         5 |         0 |         1 |         0 |         0 |         3 |         0 |         0 |         0 |         0 |         0 |         0 |         1 |         3 |         2 |         3 |         3 |         2 |         1 |         0 |         3 |         0 |         0 |         3 |         8 |         2 |         9 |         2 |         4 |         4 |         1 |         3 |         3 |         0 |         0 |         3 |         2 |         0 |         4 |         4 |         8 |         2 |         4 |         5 |         3 |         2 |         2 |         4 |         0 |         3 |         6 |         9 |         8 |         3 |         1 |         0 |         2 |         2 |         2 |         1 |         1 |         1 |       150 | \n",
            "             |     1.128 |     1.880 |     1.880 |     0.752 |     2.256 |     0.566 |     1.128 |     1.128 |     0.053 |     1.128 |     3.453 |     5.263 |     4.511 |     0.246 |     1.880 |     0.376 |     1.880 |     1.128 |     1.880 |     0.752 |     1.679 |     0.043 |     0.823 |     0.153 |     0.668 |     0.674 |     0.169 |     0.752 |     0.000 |     1.504 |     1.128 |     0.668 |     3.612 |     0.152 |     2.003 |     0.008 |     0.058 |     4.144 |     0.699 |     0.000 |     0.000 |     3.008 |     0.752 |     1.489 |     0.674 |     1.504 |     0.328 |     0.112 |     6.299 |     2.072 |     2.392 |     1.320 |     3.108 |     0.674 |     2.072 |     1.349 |     1.880 |     3.108 |     0.841 |     9.323 |     6.299 |     1.489 |     0.014 |     0.752 |     0.164 |     2.072 |     2.072 |     1.036 |     1.036 |     1.036 |           | \n",
            "             |     0.000 |     0.000 |     0.000 |     0.000 |     0.000 |     0.013 |     0.000 |     0.000 |     0.033 |     0.000 |     0.007 |     0.000 |     0.000 |     0.020 |     0.000 |     0.000 |     0.000 |     0.000 |     0.000 |     0.000 |     0.007 |     0.020 |     0.013 |     0.020 |     0.020 |     0.013 |     0.007 |     0.000 |     0.020 |     0.000 |     0.000 |     0.020 |     0.053 |     0.013 |     0.060 |     0.013 |     0.027 |     0.027 |     0.007 |     0.020 |     0.020 |     0.000 |     0.000 |     0.020 |     0.013 |     0.000 |     0.027 |     0.027 |     0.053 |     0.013 |     0.027 |     0.033 |     0.020 |     0.013 |     0.013 |     0.027 |     0.000 |     0.020 |     0.040 |     0.060 |     0.053 |     0.020 |     0.007 |     0.000 |     0.013 |     0.013 |     0.013 |     0.007 |     0.007 |     0.007 |     0.376 | \n",
            "             |     0.000 |     0.000 |     0.000 |     0.000 |     0.000 |     0.222 |     0.000 |     0.000 |     0.417 |     0.000 |     0.071 |     0.000 |     0.000 |     0.500 |     0.000 |     0.000 |     0.000 |     0.000 |     0.000 |     0.000 |     0.111 |     0.333 |     0.200 |     0.300 |     0.600 |     0.667 |     0.250 |     0.000 |     0.375 |     0.000 |     0.000 |     0.600 |     0.727 |     0.286 |     0.600 |     0.400 |     0.333 |     1.000 |     0.167 |     0.375 |     0.375 |     0.000 |     0.000 |     0.750 |     0.667 |     0.000 |     0.500 |     0.444 |     0.889 |     1.000 |     0.800 |     0.625 |     1.000 |     0.667 |     1.000 |     0.667 |     0.000 |     1.000 |     0.545 |     1.000 |     0.889 |     0.750 |     0.333 |     0.000 |     0.500 |     1.000 |     1.000 |     1.000 |     1.000 |     1.000 |           | \n",
            "             |     0.000 |     0.000 |     0.000 |     0.000 |     0.000 |     0.005 |     0.000 |     0.000 |     0.013 |     0.000 |     0.003 |     0.000 |     0.000 |     0.008 |     0.000 |     0.000 |     0.000 |     0.000 |     0.000 |     0.000 |     0.003 |     0.008 |     0.005 |     0.008 |     0.008 |     0.005 |     0.003 |     0.000 |     0.008 |     0.000 |     0.000 |     0.008 |     0.020 |     0.005 |     0.023 |     0.005 |     0.010 |     0.010 |     0.003 |     0.008 |     0.008 |     0.000 |     0.000 |     0.008 |     0.005 |     0.000 |     0.010 |     0.010 |     0.020 |     0.005 |     0.010 |     0.013 |     0.008 |     0.005 |     0.005 |     0.010 |     0.000 |     0.008 |     0.015 |     0.023 |     0.020 |     0.008 |     0.003 |     0.000 |     0.005 |     0.005 |     0.005 |     0.003 |     0.003 |     0.003 |           | \n",
            "-------------|-----------|-----------|-----------|-----------|-----------|-----------|-----------|-----------|-----------|-----------|-----------|-----------|-----------|-----------|-----------|-----------|-----------|-----------|-----------|-----------|-----------|-----------|-----------|-----------|-----------|-----------|-----------|-----------|-----------|-----------|-----------|-----------|-----------|-----------|-----------|-----------|-----------|-----------|-----------|-----------|-----------|-----------|-----------|-----------|-----------|-----------|-----------|-----------|-----------|-----------|-----------|-----------|-----------|-----------|-----------|-----------|-----------|-----------|-----------|-----------|-----------|-----------|-----------|-----------|-----------|-----------|-----------|-----------|-----------|-----------|-----------|\n",
            "           3 |         3 |         0 |         2 |         0 |         2 |         2 |         0 |         0 |         0 |         0 |         0 |         8 |         2 |         0 |         2 |         0 |         2 |         1 |         2 |         0 |         2 |         2 |         3 |         5 |         0 |         0 |         0 |         0 |         3 |         2 |         2 |         1 |         0 |         0 |         1 |         1 |         5 |         0 |         1 |         2 |         1 |         1 |         2 |         0 |         0 |         1 |         2 |         1 |         1 |         0 |         0 |         1 |         0 |         1 |         0 |         1 |         1 |         0 |         1 |         0 |         0 |         0 |         0 |         0 |         0 |         0 |         0 |         0 |         0 |         0 |        70 | \n",
            "             |    11.626 |     0.877 |     1.437 |     0.351 |     0.853 |     0.112 |     0.526 |     0.526 |     2.105 |     0.526 |     2.456 |    12.513 |     0.005 |     1.053 |     1.437 |     0.175 |     1.437 |     0.426 |     1.437 |     0.351 |     0.112 |     0.112 |     0.884 |     6.004 |     0.877 |     0.526 |     0.702 |     0.351 |     1.816 |     2.402 |     4.126 |     0.017 |     1.930 |     1.228 |     1.012 |     0.017 |     3.980 |     0.702 |     0.003 |     0.254 |     0.116 |     0.116 |     7.751 |     0.702 |     0.526 |     0.127 |     0.254 |     0.212 |     0.212 |     0.351 |     0.877 |     0.116 |     0.526 |     0.426 |     0.351 |     0.003 |     0.017 |     0.526 |     0.448 |     1.579 |     1.579 |     0.702 |     0.526 |     0.351 |     0.702 |     0.351 |     0.351 |     0.175 |     0.175 |     0.175 |           | \n",
            "             |     0.043 |     0.000 |     0.029 |     0.000 |     0.029 |     0.029 |     0.000 |     0.000 |     0.000 |     0.000 |     0.000 |     0.114 |     0.029 |     0.000 |     0.029 |     0.000 |     0.029 |     0.014 |     0.029 |     0.000 |     0.029 |     0.029 |     0.043 |     0.071 |     0.000 |     0.000 |     0.000 |     0.000 |     0.043 |     0.029 |     0.029 |     0.014 |     0.000 |     0.000 |     0.014 |     0.014 |     0.071 |     0.000 |     0.014 |     0.029 |     0.014 |     0.014 |     0.029 |     0.000 |     0.000 |     0.014 |     0.029 |     0.014 |     0.014 |     0.000 |     0.000 |     0.014 |     0.000 |     0.014 |     0.000 |     0.014 |     0.014 |     0.000 |     0.014 |     0.000 |     0.000 |     0.000 |     0.000 |     0.000 |     0.000 |     0.000 |     0.000 |     0.000 |     0.000 |     0.000 |     0.175 | \n",
            "             |     1.000 |     0.000 |     0.400 |     0.000 |     0.333 |     0.222 |     0.000 |     0.000 |     0.000 |     0.000 |     0.000 |     0.571 |     0.167 |     0.000 |     0.400 |     0.000 |     0.400 |     0.333 |     0.400 |     0.000 |     0.222 |     0.222 |     0.300 |     0.500 |     0.000 |     0.000 |     0.000 |     0.000 |     0.375 |     0.500 |     0.667 |     0.200 |     0.000 |     0.000 |     0.067 |     0.200 |     0.417 |     0.000 |     0.167 |     0.250 |     0.125 |     0.125 |     1.000 |     0.000 |     0.000 |     0.250 |     0.250 |     0.111 |     0.111 |     0.000 |     0.000 |     0.125 |     0.000 |     0.333 |     0.000 |     0.167 |     0.200 |     0.000 |     0.091 |     0.000 |     0.000 |     0.000 |     0.000 |     0.000 |     0.000 |     0.000 |     0.000 |     0.000 |     0.000 |     0.000 |           | \n",
            "             |     0.008 |     0.000 |     0.005 |     0.000 |     0.005 |     0.005 |     0.000 |     0.000 |     0.000 |     0.000 |     0.000 |     0.020 |     0.005 |     0.000 |     0.005 |     0.000 |     0.005 |     0.003 |     0.005 |     0.000 |     0.005 |     0.005 |     0.008 |     0.013 |     0.000 |     0.000 |     0.000 |     0.000 |     0.008 |     0.005 |     0.005 |     0.003 |     0.000 |     0.000 |     0.003 |     0.003 |     0.013 |     0.000 |     0.003 |     0.005 |     0.003 |     0.003 |     0.005 |     0.000 |     0.000 |     0.003 |     0.005 |     0.003 |     0.003 |     0.000 |     0.000 |     0.003 |     0.000 |     0.003 |     0.000 |     0.003 |     0.003 |     0.000 |     0.003 |     0.000 |     0.000 |     0.000 |     0.000 |     0.000 |     0.000 |     0.000 |     0.000 |     0.000 |     0.000 |     0.000 |           | \n",
            "-------------|-----------|-----------|-----------|-----------|-----------|-----------|-----------|-----------|-----------|-----------|-----------|-----------|-----------|-----------|-----------|-----------|-----------|-----------|-----------|-----------|-----------|-----------|-----------|-----------|-----------|-----------|-----------|-----------|-----------|-----------|-----------|-----------|-----------|-----------|-----------|-----------|-----------|-----------|-----------|-----------|-----------|-----------|-----------|-----------|-----------|-----------|-----------|-----------|-----------|-----------|-----------|-----------|-----------|-----------|-----------|-----------|-----------|-----------|-----------|-----------|-----------|-----------|-----------|-----------|-----------|-----------|-----------|-----------|-----------|-----------|-----------|\n",
            "Column Total |         3 |         5 |         5 |         2 |         6 |         9 |         3 |         3 |        12 |         3 |        14 |        14 |        12 |         6 |         5 |         1 |         5 |         3 |         5 |         2 |         9 |         9 |        10 |        10 |         5 |         3 |         4 |         2 |         8 |         4 |         3 |         5 |        11 |         7 |        15 |         5 |        12 |         4 |         6 |         8 |         8 |         8 |         2 |         4 |         3 |         4 |         8 |         9 |         9 |         2 |         5 |         8 |         3 |         3 |         2 |         6 |         5 |         3 |        11 |         9 |         9 |         4 |         3 |         2 |         4 |         2 |         2 |         1 |         1 |         1 |       399 | \n",
            "             |     0.008 |     0.013 |     0.013 |     0.005 |     0.015 |     0.023 |     0.008 |     0.008 |     0.030 |     0.008 |     0.035 |     0.035 |     0.030 |     0.015 |     0.013 |     0.003 |     0.013 |     0.008 |     0.013 |     0.005 |     0.023 |     0.023 |     0.025 |     0.025 |     0.013 |     0.008 |     0.010 |     0.005 |     0.020 |     0.010 |     0.008 |     0.013 |     0.028 |     0.018 |     0.038 |     0.013 |     0.030 |     0.010 |     0.015 |     0.020 |     0.020 |     0.020 |     0.005 |     0.010 |     0.008 |     0.010 |     0.020 |     0.023 |     0.023 |     0.005 |     0.013 |     0.020 |     0.008 |     0.008 |     0.005 |     0.015 |     0.013 |     0.008 |     0.028 |     0.023 |     0.023 |     0.010 |     0.008 |     0.005 |     0.010 |     0.005 |     0.005 |     0.003 |     0.003 |     0.003 |           | \n",
            "-------------|-----------|-----------|-----------|-----------|-----------|-----------|-----------|-----------|-----------|-----------|-----------|-----------|-----------|-----------|-----------|-----------|-----------|-----------|-----------|-----------|-----------|-----------|-----------|-----------|-----------|-----------|-----------|-----------|-----------|-----------|-----------|-----------|-----------|-----------|-----------|-----------|-----------|-----------|-----------|-----------|-----------|-----------|-----------|-----------|-----------|-----------|-----------|-----------|-----------|-----------|-----------|-----------|-----------|-----------|-----------|-----------|-----------|-----------|-----------|-----------|-----------|-----------|-----------|-----------|-----------|-----------|-----------|-----------|-----------|-----------|-----------|\n",
            "\n",
            " \n"
          ]
        }
      ]
    },
    {
      "cell_type": "code",
      "metadata": {
        "id": "bMJT1pLw360a",
        "colab": {
          "base_uri": "https://localhost:8080/",
          "height": 33
        },
        "outputId": "c3d8e46a-d709-4d8e-91c1-360e401ecece"
      },
      "source": [
        "#6.\tShow the variable names and give a simple description of each.\n",
        "names(exa)"
      ],
      "execution_count": 50,
      "outputs": [
        {
          "output_type": "display_data",
          "data": {
            "text/plain": [
              "[1] \"Diagnosis\" \"ID\"        \"Gender\"    \"Age\"       \"Smoking\"  "
            ],
            "text/latex": "\\begin{enumerate*}\n\\item 'Diagnosis'\n\\item 'ID'\n\\item 'Gender'\n\\item 'Age'\n\\item 'Smoking'\n\\end{enumerate*}\n",
            "text/markdown": "1. 'Diagnosis'\n2. 'ID'\n3. 'Gender'\n4. 'Age'\n5. 'Smoking'\n\n\n",
            "text/html": [
              "<style>\n",
              ".list-inline {list-style: none; margin:0; padding: 0}\n",
              ".list-inline>li {display: inline-block}\n",
              ".list-inline>li:not(:last-child)::after {content: \"\\00b7\"; padding: 0 .5ex}\n",
              "</style>\n",
              "<ol class=list-inline><li>'Diagnosis'</li><li>'ID'</li><li>'Gender'</li><li>'Age'</li><li>'Smoking'</li></ol>\n"
            ]
          },
          "metadata": {}
        }
      ]
    },
    {
      "cell_type": "markdown",
      "metadata": {
        "id": "o-816xsD360b"
      },
      "source": [
        "## Data Pre-Processing"
      ]
    },
    {
      "cell_type": "code",
      "metadata": {
        "id": "eTNEXjUJ360b",
        "colab": {
          "base_uri": "https://localhost:8080/",
          "height": 201
        },
        "outputId": "6766c3f7-6ac5-4250-c46e-7b6c2ee2cd79"
      },
      "source": [
        "#1.\tIs there a class variable in the dataset? if yes what is it?\n",
        "t(t(sapply(exa, class)))"
      ],
      "execution_count": 51,
      "outputs": [
        {
          "output_type": "display_data",
          "data": {
            "text/plain": [
              "          [,1]     \n",
              "Diagnosis character\n",
              "ID        character\n",
              "Gender    integer  \n",
              "Age       integer  \n",
              "Smoking   factor   "
            ],
            "text/latex": "A matrix: 5 × 1 of type chr\n\\begin{tabular}{r|l}\n\tDiagnosis & character\\\\\n\tID & character\\\\\n\tGender & integer  \\\\\n\tAge & integer  \\\\\n\tSmoking & factor   \\\\\n\\end{tabular}\n",
            "text/markdown": "\nA matrix: 5 × 1 of type chr\n\n| Diagnosis | character |\n| ID | character |\n| Gender | integer   |\n| Age | integer   |\n| Smoking | factor    |\n\n",
            "text/html": [
              "<table class=\"dataframe\">\n",
              "<caption>A matrix: 5 × 1 of type chr</caption>\n",
              "<tbody>\n",
              "\t<tr><th scope=row>Diagnosis</th><td>character</td></tr>\n",
              "\t<tr><th scope=row>ID</th><td>character</td></tr>\n",
              "\t<tr><th scope=row>Gender</th><td>integer  </td></tr>\n",
              "\t<tr><th scope=row>Age</th><td>integer  </td></tr>\n",
              "\t<tr><th scope=row>Smoking</th><td>factor   </td></tr>\n",
              "</tbody>\n",
              "</table>\n"
            ]
          },
          "metadata": {}
        }
      ]
    },
    {
      "cell_type": "code",
      "metadata": {
        "id": "IiL6u5s1360c",
        "colab": {
          "base_uri": "https://localhost:8080/",
          "height": 201
        },
        "outputId": "012e850b-81cc-4fc7-dc15-987bd99eac9a"
      },
      "source": [
        "#2.\tChange the class variable type of the class variable to factor.\n",
        "exa$Smoking <- as.factor(exa$Smoking)\n",
        "t(t(sapply(exa, class)))"
      ],
      "execution_count": 52,
      "outputs": [
        {
          "output_type": "display_data",
          "data": {
            "text/plain": [
              "          [,1]     \n",
              "Diagnosis character\n",
              "ID        character\n",
              "Gender    integer  \n",
              "Age       integer  \n",
              "Smoking   factor   "
            ],
            "text/latex": "A matrix: 5 × 1 of type chr\n\\begin{tabular}{r|l}\n\tDiagnosis & character\\\\\n\tID & character\\\\\n\tGender & integer  \\\\\n\tAge & integer  \\\\\n\tSmoking & factor   \\\\\n\\end{tabular}\n",
            "text/markdown": "\nA matrix: 5 × 1 of type chr\n\n| Diagnosis | character |\n| ID | character |\n| Gender | integer   |\n| Age | integer   |\n| Smoking | factor    |\n\n",
            "text/html": [
              "<table class=\"dataframe\">\n",
              "<caption>A matrix: 5 × 1 of type chr</caption>\n",
              "<tbody>\n",
              "\t<tr><th scope=row>Diagnosis</th><td>character</td></tr>\n",
              "\t<tr><th scope=row>ID</th><td>character</td></tr>\n",
              "\t<tr><th scope=row>Gender</th><td>integer  </td></tr>\n",
              "\t<tr><th scope=row>Age</th><td>integer  </td></tr>\n",
              "\t<tr><th scope=row>Smoking</th><td>factor   </td></tr>\n",
              "</tbody>\n",
              "</table>\n"
            ]
          },
          "metadata": {}
        }
      ]
    },
    {
      "cell_type": "code",
      "metadata": {
        "id": "AKMdYVkw360c",
        "colab": {
          "base_uri": "https://localhost:8080/",
          "height": 115
        },
        "outputId": "21b7b845-e78b-4298-8d95-7334f6a4d4d1"
      },
      "source": [
        "#3.\tIs there missing variables in the dataset.\n",
        "summary(is.na(exa))"
      ],
      "execution_count": 53,
      "outputs": [
        {
          "output_type": "display_data",
          "data": {
            "text/plain": [
              " Diagnosis           ID            Gender           Age         \n",
              " Mode :logical   Mode :logical   Mode :logical   Mode :logical  \n",
              " FALSE:399       FALSE:399       FALSE:399       FALSE:399      \n",
              "  Smoking       \n",
              " Mode :logical  \n",
              " FALSE:399      "
            ]
          },
          "metadata": {}
        }
      ]
    },
    {
      "cell_type": "code",
      "metadata": {
        "id": "Fx-RhDUc360d",
        "colab": {
          "base_uri": "https://localhost:8080/",
          "height": 1000
        },
        "outputId": "11ea7208-ef51-4148-8c7c-4c94d4731eab"
      },
      "source": [
        "#4.\tFind the position of each missing variable in the dataset.\n",
        "is.na(exa)\n"
      ],
      "execution_count": 54,
      "outputs": [
        {
          "output_type": "display_data",
          "data": {
            "text/plain": [
              "      Diagnosis ID    Gender Age   Smoking\n",
              " [1,] FALSE     FALSE FALSE  FALSE FALSE  \n",
              " [2,] FALSE     FALSE FALSE  FALSE FALSE  \n",
              " [3,] FALSE     FALSE FALSE  FALSE FALSE  \n",
              " [4,] FALSE     FALSE FALSE  FALSE FALSE  \n",
              " [5,] FALSE     FALSE FALSE  FALSE FALSE  \n",
              " [6,] FALSE     FALSE FALSE  FALSE FALSE  \n",
              " [7,] FALSE     FALSE FALSE  FALSE FALSE  \n",
              " [8,] FALSE     FALSE FALSE  FALSE FALSE  \n",
              " [9,] FALSE     FALSE FALSE  FALSE FALSE  \n",
              "[10,] FALSE     FALSE FALSE  FALSE FALSE  \n",
              "[11,] FALSE     FALSE FALSE  FALSE FALSE  \n",
              "[12,] FALSE     FALSE FALSE  FALSE FALSE  \n",
              "[13,] FALSE     FALSE FALSE  FALSE FALSE  \n",
              "[14,] FALSE     FALSE FALSE  FALSE FALSE  \n",
              "[15,] FALSE     FALSE FALSE  FALSE FALSE  \n",
              "[16,] FALSE     FALSE FALSE  FALSE FALSE  \n",
              "[17,] FALSE     FALSE FALSE  FALSE FALSE  \n",
              "[18,] FALSE     FALSE FALSE  FALSE FALSE  \n",
              "[19,] FALSE     FALSE FALSE  FALSE FALSE  \n",
              "[20,] FALSE     FALSE FALSE  FALSE FALSE  \n",
              "[21,] FALSE     FALSE FALSE  FALSE FALSE  \n",
              "[22,] FALSE     FALSE FALSE  FALSE FALSE  \n",
              "[23,] FALSE     FALSE FALSE  FALSE FALSE  \n",
              "[24,] FALSE     FALSE FALSE  FALSE FALSE  \n",
              "[25,] FALSE     FALSE FALSE  FALSE FALSE  \n",
              "[26,] FALSE     FALSE FALSE  FALSE FALSE  \n",
              "[27,] FALSE     FALSE FALSE  FALSE FALSE  \n",
              "[28,] FALSE     FALSE FALSE  FALSE FALSE  \n",
              "[29,] FALSE     FALSE FALSE  FALSE FALSE  \n",
              "[30,] FALSE     FALSE FALSE  FALSE FALSE  \n",
              "[31,] ⋮         ⋮     ⋮      ⋮     ⋮      \n",
              "[32,] FALSE     FALSE FALSE  FALSE FALSE  \n",
              "[33,] FALSE     FALSE FALSE  FALSE FALSE  \n",
              "[34,] FALSE     FALSE FALSE  FALSE FALSE  \n",
              "[35,] FALSE     FALSE FALSE  FALSE FALSE  \n",
              "[36,] FALSE     FALSE FALSE  FALSE FALSE  \n",
              "[37,] FALSE     FALSE FALSE  FALSE FALSE  \n",
              "[38,] FALSE     FALSE FALSE  FALSE FALSE  \n",
              "[39,] FALSE     FALSE FALSE  FALSE FALSE  \n",
              "[40,] FALSE     FALSE FALSE  FALSE FALSE  \n",
              "[41,] FALSE     FALSE FALSE  FALSE FALSE  \n",
              "[42,] FALSE     FALSE FALSE  FALSE FALSE  \n",
              "[43,] FALSE     FALSE FALSE  FALSE FALSE  \n",
              "[44,] FALSE     FALSE FALSE  FALSE FALSE  \n",
              "[45,] FALSE     FALSE FALSE  FALSE FALSE  \n",
              "[46,] FALSE     FALSE FALSE  FALSE FALSE  \n",
              "[47,] FALSE     FALSE FALSE  FALSE FALSE  \n",
              "[48,] FALSE     FALSE FALSE  FALSE FALSE  \n",
              "[49,] FALSE     FALSE FALSE  FALSE FALSE  \n",
              "[50,] FALSE     FALSE FALSE  FALSE FALSE  \n",
              "[51,] FALSE     FALSE FALSE  FALSE FALSE  \n",
              "[52,] FALSE     FALSE FALSE  FALSE FALSE  \n",
              "[53,] FALSE     FALSE FALSE  FALSE FALSE  \n",
              "[54,] FALSE     FALSE FALSE  FALSE FALSE  \n",
              "[55,] FALSE     FALSE FALSE  FALSE FALSE  \n",
              "[56,] FALSE     FALSE FALSE  FALSE FALSE  \n",
              "[57,] FALSE     FALSE FALSE  FALSE FALSE  \n",
              "[58,] FALSE     FALSE FALSE  FALSE FALSE  \n",
              "[59,] FALSE     FALSE FALSE  FALSE FALSE  \n",
              "[60,] FALSE     FALSE FALSE  FALSE FALSE  \n",
              "[61,] FALSE     FALSE FALSE  FALSE FALSE  "
            ],
            "text/latex": "A matrix: 399 × 5 of type lgl\n\\begin{tabular}{lllll}\n Diagnosis & ID & Gender & Age & Smoking\\\\\n\\hline\n\t FALSE & FALSE & FALSE & FALSE & FALSE\\\\\n\t FALSE & FALSE & FALSE & FALSE & FALSE\\\\\n\t FALSE & FALSE & FALSE & FALSE & FALSE\\\\\n\t FALSE & FALSE & FALSE & FALSE & FALSE\\\\\n\t FALSE & FALSE & FALSE & FALSE & FALSE\\\\\n\t FALSE & FALSE & FALSE & FALSE & FALSE\\\\\n\t FALSE & FALSE & FALSE & FALSE & FALSE\\\\\n\t FALSE & FALSE & FALSE & FALSE & FALSE\\\\\n\t FALSE & FALSE & FALSE & FALSE & FALSE\\\\\n\t FALSE & FALSE & FALSE & FALSE & FALSE\\\\\n\t FALSE & FALSE & FALSE & FALSE & FALSE\\\\\n\t FALSE & FALSE & FALSE & FALSE & FALSE\\\\\n\t FALSE & FALSE & FALSE & FALSE & FALSE\\\\\n\t FALSE & FALSE & FALSE & FALSE & FALSE\\\\\n\t FALSE & FALSE & FALSE & FALSE & FALSE\\\\\n\t FALSE & FALSE & FALSE & FALSE & FALSE\\\\\n\t FALSE & FALSE & FALSE & FALSE & FALSE\\\\\n\t FALSE & FALSE & FALSE & FALSE & FALSE\\\\\n\t FALSE & FALSE & FALSE & FALSE & FALSE\\\\\n\t FALSE & FALSE & FALSE & FALSE & FALSE\\\\\n\t FALSE & FALSE & FALSE & FALSE & FALSE\\\\\n\t FALSE & FALSE & FALSE & FALSE & FALSE\\\\\n\t FALSE & FALSE & FALSE & FALSE & FALSE\\\\\n\t FALSE & FALSE & FALSE & FALSE & FALSE\\\\\n\t FALSE & FALSE & FALSE & FALSE & FALSE\\\\\n\t FALSE & FALSE & FALSE & FALSE & FALSE\\\\\n\t FALSE & FALSE & FALSE & FALSE & FALSE\\\\\n\t FALSE & FALSE & FALSE & FALSE & FALSE\\\\\n\t FALSE & FALSE & FALSE & FALSE & FALSE\\\\\n\t FALSE & FALSE & FALSE & FALSE & FALSE\\\\\n\t ⋮ & ⋮ & ⋮ & ⋮ & ⋮\\\\\n\t FALSE & FALSE & FALSE & FALSE & FALSE\\\\\n\t FALSE & FALSE & FALSE & FALSE & FALSE\\\\\n\t FALSE & FALSE & FALSE & FALSE & FALSE\\\\\n\t FALSE & FALSE & FALSE & FALSE & FALSE\\\\\n\t FALSE & FALSE & FALSE & FALSE & FALSE\\\\\n\t FALSE & FALSE & FALSE & FALSE & FALSE\\\\\n\t FALSE & FALSE & FALSE & FALSE & FALSE\\\\\n\t FALSE & FALSE & FALSE & FALSE & FALSE\\\\\n\t FALSE & FALSE & FALSE & FALSE & FALSE\\\\\n\t FALSE & FALSE & FALSE & FALSE & FALSE\\\\\n\t FALSE & FALSE & FALSE & FALSE & FALSE\\\\\n\t FALSE & FALSE & FALSE & FALSE & FALSE\\\\\n\t FALSE & FALSE & FALSE & FALSE & FALSE\\\\\n\t FALSE & FALSE & FALSE & FALSE & FALSE\\\\\n\t FALSE & FALSE & FALSE & FALSE & FALSE\\\\\n\t FALSE & FALSE & FALSE & FALSE & FALSE\\\\\n\t FALSE & FALSE & FALSE & FALSE & FALSE\\\\\n\t FALSE & FALSE & FALSE & FALSE & FALSE\\\\\n\t FALSE & FALSE & FALSE & FALSE & FALSE\\\\\n\t FALSE & FALSE & FALSE & FALSE & FALSE\\\\\n\t FALSE & FALSE & FALSE & FALSE & FALSE\\\\\n\t FALSE & FALSE & FALSE & FALSE & FALSE\\\\\n\t FALSE & FALSE & FALSE & FALSE & FALSE\\\\\n\t FALSE & FALSE & FALSE & FALSE & FALSE\\\\\n\t FALSE & FALSE & FALSE & FALSE & FALSE\\\\\n\t FALSE & FALSE & FALSE & FALSE & FALSE\\\\\n\t FALSE & FALSE & FALSE & FALSE & FALSE\\\\\n\t FALSE & FALSE & FALSE & FALSE & FALSE\\\\\n\t FALSE & FALSE & FALSE & FALSE & FALSE\\\\\n\t FALSE & FALSE & FALSE & FALSE & FALSE\\\\\n\\end{tabular}\n",
            "text/markdown": "\nA matrix: 399 × 5 of type lgl\n\n| Diagnosis | ID | Gender | Age | Smoking |\n|---|---|---|---|---|\n| FALSE | FALSE | FALSE | FALSE | FALSE |\n| FALSE | FALSE | FALSE | FALSE | FALSE |\n| FALSE | FALSE | FALSE | FALSE | FALSE |\n| FALSE | FALSE | FALSE | FALSE | FALSE |\n| FALSE | FALSE | FALSE | FALSE | FALSE |\n| FALSE | FALSE | FALSE | FALSE | FALSE |\n| FALSE | FALSE | FALSE | FALSE | FALSE |\n| FALSE | FALSE | FALSE | FALSE | FALSE |\n| FALSE | FALSE | FALSE | FALSE | FALSE |\n| FALSE | FALSE | FALSE | FALSE | FALSE |\n| FALSE | FALSE | FALSE | FALSE | FALSE |\n| FALSE | FALSE | FALSE | FALSE | FALSE |\n| FALSE | FALSE | FALSE | FALSE | FALSE |\n| FALSE | FALSE | FALSE | FALSE | FALSE |\n| FALSE | FALSE | FALSE | FALSE | FALSE |\n| FALSE | FALSE | FALSE | FALSE | FALSE |\n| FALSE | FALSE | FALSE | FALSE | FALSE |\n| FALSE | FALSE | FALSE | FALSE | FALSE |\n| FALSE | FALSE | FALSE | FALSE | FALSE |\n| FALSE | FALSE | FALSE | FALSE | FALSE |\n| FALSE | FALSE | FALSE | FALSE | FALSE |\n| FALSE | FALSE | FALSE | FALSE | FALSE |\n| FALSE | FALSE | FALSE | FALSE | FALSE |\n| FALSE | FALSE | FALSE | FALSE | FALSE |\n| FALSE | FALSE | FALSE | FALSE | FALSE |\n| FALSE | FALSE | FALSE | FALSE | FALSE |\n| FALSE | FALSE | FALSE | FALSE | FALSE |\n| FALSE | FALSE | FALSE | FALSE | FALSE |\n| FALSE | FALSE | FALSE | FALSE | FALSE |\n| FALSE | FALSE | FALSE | FALSE | FALSE |\n| ⋮ | ⋮ | ⋮ | ⋮ | ⋮ |\n| FALSE | FALSE | FALSE | FALSE | FALSE |\n| FALSE | FALSE | FALSE | FALSE | FALSE |\n| FALSE | FALSE | FALSE | FALSE | FALSE |\n| FALSE | FALSE | FALSE | FALSE | FALSE |\n| FALSE | FALSE | FALSE | FALSE | FALSE |\n| FALSE | FALSE | FALSE | FALSE | FALSE |\n| FALSE | FALSE | FALSE | FALSE | FALSE |\n| FALSE | FALSE | FALSE | FALSE | FALSE |\n| FALSE | FALSE | FALSE | FALSE | FALSE |\n| FALSE | FALSE | FALSE | FALSE | FALSE |\n| FALSE | FALSE | FALSE | FALSE | FALSE |\n| FALSE | FALSE | FALSE | FALSE | FALSE |\n| FALSE | FALSE | FALSE | FALSE | FALSE |\n| FALSE | FALSE | FALSE | FALSE | FALSE |\n| FALSE | FALSE | FALSE | FALSE | FALSE |\n| FALSE | FALSE | FALSE | FALSE | FALSE |\n| FALSE | FALSE | FALSE | FALSE | FALSE |\n| FALSE | FALSE | FALSE | FALSE | FALSE |\n| FALSE | FALSE | FALSE | FALSE | FALSE |\n| FALSE | FALSE | FALSE | FALSE | FALSE |\n| FALSE | FALSE | FALSE | FALSE | FALSE |\n| FALSE | FALSE | FALSE | FALSE | FALSE |\n| FALSE | FALSE | FALSE | FALSE | FALSE |\n| FALSE | FALSE | FALSE | FALSE | FALSE |\n| FALSE | FALSE | FALSE | FALSE | FALSE |\n| FALSE | FALSE | FALSE | FALSE | FALSE |\n| FALSE | FALSE | FALSE | FALSE | FALSE |\n| FALSE | FALSE | FALSE | FALSE | FALSE |\n| FALSE | FALSE | FALSE | FALSE | FALSE |\n| FALSE | FALSE | FALSE | FALSE | FALSE |\n\n",
            "text/html": [
              "<table class=\"dataframe\">\n",
              "<caption>A matrix: 399 × 5 of type lgl</caption>\n",
              "<thead>\n",
              "\t<tr><th scope=col>Diagnosis</th><th scope=col>ID</th><th scope=col>Gender</th><th scope=col>Age</th><th scope=col>Smoking</th></tr>\n",
              "</thead>\n",
              "<tbody>\n",
              "\t<tr><td>FALSE</td><td>FALSE</td><td>FALSE</td><td>FALSE</td><td>FALSE</td></tr>\n",
              "\t<tr><td>FALSE</td><td>FALSE</td><td>FALSE</td><td>FALSE</td><td>FALSE</td></tr>\n",
              "\t<tr><td>FALSE</td><td>FALSE</td><td>FALSE</td><td>FALSE</td><td>FALSE</td></tr>\n",
              "\t<tr><td>FALSE</td><td>FALSE</td><td>FALSE</td><td>FALSE</td><td>FALSE</td></tr>\n",
              "\t<tr><td>FALSE</td><td>FALSE</td><td>FALSE</td><td>FALSE</td><td>FALSE</td></tr>\n",
              "\t<tr><td>FALSE</td><td>FALSE</td><td>FALSE</td><td>FALSE</td><td>FALSE</td></tr>\n",
              "\t<tr><td>FALSE</td><td>FALSE</td><td>FALSE</td><td>FALSE</td><td>FALSE</td></tr>\n",
              "\t<tr><td>FALSE</td><td>FALSE</td><td>FALSE</td><td>FALSE</td><td>FALSE</td></tr>\n",
              "\t<tr><td>FALSE</td><td>FALSE</td><td>FALSE</td><td>FALSE</td><td>FALSE</td></tr>\n",
              "\t<tr><td>FALSE</td><td>FALSE</td><td>FALSE</td><td>FALSE</td><td>FALSE</td></tr>\n",
              "\t<tr><td>FALSE</td><td>FALSE</td><td>FALSE</td><td>FALSE</td><td>FALSE</td></tr>\n",
              "\t<tr><td>FALSE</td><td>FALSE</td><td>FALSE</td><td>FALSE</td><td>FALSE</td></tr>\n",
              "\t<tr><td>FALSE</td><td>FALSE</td><td>FALSE</td><td>FALSE</td><td>FALSE</td></tr>\n",
              "\t<tr><td>FALSE</td><td>FALSE</td><td>FALSE</td><td>FALSE</td><td>FALSE</td></tr>\n",
              "\t<tr><td>FALSE</td><td>FALSE</td><td>FALSE</td><td>FALSE</td><td>FALSE</td></tr>\n",
              "\t<tr><td>FALSE</td><td>FALSE</td><td>FALSE</td><td>FALSE</td><td>FALSE</td></tr>\n",
              "\t<tr><td>FALSE</td><td>FALSE</td><td>FALSE</td><td>FALSE</td><td>FALSE</td></tr>\n",
              "\t<tr><td>FALSE</td><td>FALSE</td><td>FALSE</td><td>FALSE</td><td>FALSE</td></tr>\n",
              "\t<tr><td>FALSE</td><td>FALSE</td><td>FALSE</td><td>FALSE</td><td>FALSE</td></tr>\n",
              "\t<tr><td>FALSE</td><td>FALSE</td><td>FALSE</td><td>FALSE</td><td>FALSE</td></tr>\n",
              "\t<tr><td>FALSE</td><td>FALSE</td><td>FALSE</td><td>FALSE</td><td>FALSE</td></tr>\n",
              "\t<tr><td>FALSE</td><td>FALSE</td><td>FALSE</td><td>FALSE</td><td>FALSE</td></tr>\n",
              "\t<tr><td>FALSE</td><td>FALSE</td><td>FALSE</td><td>FALSE</td><td>FALSE</td></tr>\n",
              "\t<tr><td>FALSE</td><td>FALSE</td><td>FALSE</td><td>FALSE</td><td>FALSE</td></tr>\n",
              "\t<tr><td>FALSE</td><td>FALSE</td><td>FALSE</td><td>FALSE</td><td>FALSE</td></tr>\n",
              "\t<tr><td>FALSE</td><td>FALSE</td><td>FALSE</td><td>FALSE</td><td>FALSE</td></tr>\n",
              "\t<tr><td>FALSE</td><td>FALSE</td><td>FALSE</td><td>FALSE</td><td>FALSE</td></tr>\n",
              "\t<tr><td>FALSE</td><td>FALSE</td><td>FALSE</td><td>FALSE</td><td>FALSE</td></tr>\n",
              "\t<tr><td>FALSE</td><td>FALSE</td><td>FALSE</td><td>FALSE</td><td>FALSE</td></tr>\n",
              "\t<tr><td>FALSE</td><td>FALSE</td><td>FALSE</td><td>FALSE</td><td>FALSE</td></tr>\n",
              "\t<tr><td>⋮</td><td>⋮</td><td>⋮</td><td>⋮</td><td>⋮</td></tr>\n",
              "\t<tr><td>FALSE</td><td>FALSE</td><td>FALSE</td><td>FALSE</td><td>FALSE</td></tr>\n",
              "\t<tr><td>FALSE</td><td>FALSE</td><td>FALSE</td><td>FALSE</td><td>FALSE</td></tr>\n",
              "\t<tr><td>FALSE</td><td>FALSE</td><td>FALSE</td><td>FALSE</td><td>FALSE</td></tr>\n",
              "\t<tr><td>FALSE</td><td>FALSE</td><td>FALSE</td><td>FALSE</td><td>FALSE</td></tr>\n",
              "\t<tr><td>FALSE</td><td>FALSE</td><td>FALSE</td><td>FALSE</td><td>FALSE</td></tr>\n",
              "\t<tr><td>FALSE</td><td>FALSE</td><td>FALSE</td><td>FALSE</td><td>FALSE</td></tr>\n",
              "\t<tr><td>FALSE</td><td>FALSE</td><td>FALSE</td><td>FALSE</td><td>FALSE</td></tr>\n",
              "\t<tr><td>FALSE</td><td>FALSE</td><td>FALSE</td><td>FALSE</td><td>FALSE</td></tr>\n",
              "\t<tr><td>FALSE</td><td>FALSE</td><td>FALSE</td><td>FALSE</td><td>FALSE</td></tr>\n",
              "\t<tr><td>FALSE</td><td>FALSE</td><td>FALSE</td><td>FALSE</td><td>FALSE</td></tr>\n",
              "\t<tr><td>FALSE</td><td>FALSE</td><td>FALSE</td><td>FALSE</td><td>FALSE</td></tr>\n",
              "\t<tr><td>FALSE</td><td>FALSE</td><td>FALSE</td><td>FALSE</td><td>FALSE</td></tr>\n",
              "\t<tr><td>FALSE</td><td>FALSE</td><td>FALSE</td><td>FALSE</td><td>FALSE</td></tr>\n",
              "\t<tr><td>FALSE</td><td>FALSE</td><td>FALSE</td><td>FALSE</td><td>FALSE</td></tr>\n",
              "\t<tr><td>FALSE</td><td>FALSE</td><td>FALSE</td><td>FALSE</td><td>FALSE</td></tr>\n",
              "\t<tr><td>FALSE</td><td>FALSE</td><td>FALSE</td><td>FALSE</td><td>FALSE</td></tr>\n",
              "\t<tr><td>FALSE</td><td>FALSE</td><td>FALSE</td><td>FALSE</td><td>FALSE</td></tr>\n",
              "\t<tr><td>FALSE</td><td>FALSE</td><td>FALSE</td><td>FALSE</td><td>FALSE</td></tr>\n",
              "\t<tr><td>FALSE</td><td>FALSE</td><td>FALSE</td><td>FALSE</td><td>FALSE</td></tr>\n",
              "\t<tr><td>FALSE</td><td>FALSE</td><td>FALSE</td><td>FALSE</td><td>FALSE</td></tr>\n",
              "\t<tr><td>FALSE</td><td>FALSE</td><td>FALSE</td><td>FALSE</td><td>FALSE</td></tr>\n",
              "\t<tr><td>FALSE</td><td>FALSE</td><td>FALSE</td><td>FALSE</td><td>FALSE</td></tr>\n",
              "\t<tr><td>FALSE</td><td>FALSE</td><td>FALSE</td><td>FALSE</td><td>FALSE</td></tr>\n",
              "\t<tr><td>FALSE</td><td>FALSE</td><td>FALSE</td><td>FALSE</td><td>FALSE</td></tr>\n",
              "\t<tr><td>FALSE</td><td>FALSE</td><td>FALSE</td><td>FALSE</td><td>FALSE</td></tr>\n",
              "\t<tr><td>FALSE</td><td>FALSE</td><td>FALSE</td><td>FALSE</td><td>FALSE</td></tr>\n",
              "\t<tr><td>FALSE</td><td>FALSE</td><td>FALSE</td><td>FALSE</td><td>FALSE</td></tr>\n",
              "\t<tr><td>FALSE</td><td>FALSE</td><td>FALSE</td><td>FALSE</td><td>FALSE</td></tr>\n",
              "\t<tr><td>FALSE</td><td>FALSE</td><td>FALSE</td><td>FALSE</td><td>FALSE</td></tr>\n",
              "\t<tr><td>FALSE</td><td>FALSE</td><td>FALSE</td><td>FALSE</td><td>FALSE</td></tr>\n",
              "</tbody>\n",
              "</table>\n"
            ]
          },
          "metadata": {}
        }
      ]
    },
    {
      "cell_type": "code",
      "metadata": {
        "id": "W4gxhPek360d"
      },
      "source": [
        "#5.\tReplace the missing variables by 0.\n",
        "exa[is.na(exa)] <- 0"
      ],
      "execution_count": 55,
      "outputs": []
    },
    {
      "cell_type": "code",
      "metadata": {
        "colab": {
          "base_uri": "https://localhost:8080/",
          "height": 1000
        },
        "id": "jDo9AvOJc8Ls",
        "outputId": "6d27ff3c-db2f-4449-be1b-75d3e6a09f2a"
      },
      "source": [
        "is.na(exa)"
      ],
      "execution_count": 56,
      "outputs": [
        {
          "output_type": "display_data",
          "data": {
            "text/plain": [
              "      Diagnosis ID    Gender Age   Smoking\n",
              " [1,] FALSE     FALSE FALSE  FALSE FALSE  \n",
              " [2,] FALSE     FALSE FALSE  FALSE FALSE  \n",
              " [3,] FALSE     FALSE FALSE  FALSE FALSE  \n",
              " [4,] FALSE     FALSE FALSE  FALSE FALSE  \n",
              " [5,] FALSE     FALSE FALSE  FALSE FALSE  \n",
              " [6,] FALSE     FALSE FALSE  FALSE FALSE  \n",
              " [7,] FALSE     FALSE FALSE  FALSE FALSE  \n",
              " [8,] FALSE     FALSE FALSE  FALSE FALSE  \n",
              " [9,] FALSE     FALSE FALSE  FALSE FALSE  \n",
              "[10,] FALSE     FALSE FALSE  FALSE FALSE  \n",
              "[11,] FALSE     FALSE FALSE  FALSE FALSE  \n",
              "[12,] FALSE     FALSE FALSE  FALSE FALSE  \n",
              "[13,] FALSE     FALSE FALSE  FALSE FALSE  \n",
              "[14,] FALSE     FALSE FALSE  FALSE FALSE  \n",
              "[15,] FALSE     FALSE FALSE  FALSE FALSE  \n",
              "[16,] FALSE     FALSE FALSE  FALSE FALSE  \n",
              "[17,] FALSE     FALSE FALSE  FALSE FALSE  \n",
              "[18,] FALSE     FALSE FALSE  FALSE FALSE  \n",
              "[19,] FALSE     FALSE FALSE  FALSE FALSE  \n",
              "[20,] FALSE     FALSE FALSE  FALSE FALSE  \n",
              "[21,] FALSE     FALSE FALSE  FALSE FALSE  \n",
              "[22,] FALSE     FALSE FALSE  FALSE FALSE  \n",
              "[23,] FALSE     FALSE FALSE  FALSE FALSE  \n",
              "[24,] FALSE     FALSE FALSE  FALSE FALSE  \n",
              "[25,] FALSE     FALSE FALSE  FALSE FALSE  \n",
              "[26,] FALSE     FALSE FALSE  FALSE FALSE  \n",
              "[27,] FALSE     FALSE FALSE  FALSE FALSE  \n",
              "[28,] FALSE     FALSE FALSE  FALSE FALSE  \n",
              "[29,] FALSE     FALSE FALSE  FALSE FALSE  \n",
              "[30,] FALSE     FALSE FALSE  FALSE FALSE  \n",
              "[31,] ⋮         ⋮     ⋮      ⋮     ⋮      \n",
              "[32,] FALSE     FALSE FALSE  FALSE FALSE  \n",
              "[33,] FALSE     FALSE FALSE  FALSE FALSE  \n",
              "[34,] FALSE     FALSE FALSE  FALSE FALSE  \n",
              "[35,] FALSE     FALSE FALSE  FALSE FALSE  \n",
              "[36,] FALSE     FALSE FALSE  FALSE FALSE  \n",
              "[37,] FALSE     FALSE FALSE  FALSE FALSE  \n",
              "[38,] FALSE     FALSE FALSE  FALSE FALSE  \n",
              "[39,] FALSE     FALSE FALSE  FALSE FALSE  \n",
              "[40,] FALSE     FALSE FALSE  FALSE FALSE  \n",
              "[41,] FALSE     FALSE FALSE  FALSE FALSE  \n",
              "[42,] FALSE     FALSE FALSE  FALSE FALSE  \n",
              "[43,] FALSE     FALSE FALSE  FALSE FALSE  \n",
              "[44,] FALSE     FALSE FALSE  FALSE FALSE  \n",
              "[45,] FALSE     FALSE FALSE  FALSE FALSE  \n",
              "[46,] FALSE     FALSE FALSE  FALSE FALSE  \n",
              "[47,] FALSE     FALSE FALSE  FALSE FALSE  \n",
              "[48,] FALSE     FALSE FALSE  FALSE FALSE  \n",
              "[49,] FALSE     FALSE FALSE  FALSE FALSE  \n",
              "[50,] FALSE     FALSE FALSE  FALSE FALSE  \n",
              "[51,] FALSE     FALSE FALSE  FALSE FALSE  \n",
              "[52,] FALSE     FALSE FALSE  FALSE FALSE  \n",
              "[53,] FALSE     FALSE FALSE  FALSE FALSE  \n",
              "[54,] FALSE     FALSE FALSE  FALSE FALSE  \n",
              "[55,] FALSE     FALSE FALSE  FALSE FALSE  \n",
              "[56,] FALSE     FALSE FALSE  FALSE FALSE  \n",
              "[57,] FALSE     FALSE FALSE  FALSE FALSE  \n",
              "[58,] FALSE     FALSE FALSE  FALSE FALSE  \n",
              "[59,] FALSE     FALSE FALSE  FALSE FALSE  \n",
              "[60,] FALSE     FALSE FALSE  FALSE FALSE  \n",
              "[61,] FALSE     FALSE FALSE  FALSE FALSE  "
            ],
            "text/latex": "A matrix: 399 × 5 of type lgl\n\\begin{tabular}{lllll}\n Diagnosis & ID & Gender & Age & Smoking\\\\\n\\hline\n\t FALSE & FALSE & FALSE & FALSE & FALSE\\\\\n\t FALSE & FALSE & FALSE & FALSE & FALSE\\\\\n\t FALSE & FALSE & FALSE & FALSE & FALSE\\\\\n\t FALSE & FALSE & FALSE & FALSE & FALSE\\\\\n\t FALSE & FALSE & FALSE & FALSE & FALSE\\\\\n\t FALSE & FALSE & FALSE & FALSE & FALSE\\\\\n\t FALSE & FALSE & FALSE & FALSE & FALSE\\\\\n\t FALSE & FALSE & FALSE & FALSE & FALSE\\\\\n\t FALSE & FALSE & FALSE & FALSE & FALSE\\\\\n\t FALSE & FALSE & FALSE & FALSE & FALSE\\\\\n\t FALSE & FALSE & FALSE & FALSE & FALSE\\\\\n\t FALSE & FALSE & FALSE & FALSE & FALSE\\\\\n\t FALSE & FALSE & FALSE & FALSE & FALSE\\\\\n\t FALSE & FALSE & FALSE & FALSE & FALSE\\\\\n\t FALSE & FALSE & FALSE & FALSE & FALSE\\\\\n\t FALSE & FALSE & FALSE & FALSE & FALSE\\\\\n\t FALSE & FALSE & FALSE & FALSE & FALSE\\\\\n\t FALSE & FALSE & FALSE & FALSE & FALSE\\\\\n\t FALSE & FALSE & FALSE & FALSE & FALSE\\\\\n\t FALSE & FALSE & FALSE & FALSE & FALSE\\\\\n\t FALSE & FALSE & FALSE & FALSE & FALSE\\\\\n\t FALSE & FALSE & FALSE & FALSE & FALSE\\\\\n\t FALSE & FALSE & FALSE & FALSE & FALSE\\\\\n\t FALSE & FALSE & FALSE & FALSE & FALSE\\\\\n\t FALSE & FALSE & FALSE & FALSE & FALSE\\\\\n\t FALSE & FALSE & FALSE & FALSE & FALSE\\\\\n\t FALSE & FALSE & FALSE & FALSE & FALSE\\\\\n\t FALSE & FALSE & FALSE & FALSE & FALSE\\\\\n\t FALSE & FALSE & FALSE & FALSE & FALSE\\\\\n\t FALSE & FALSE & FALSE & FALSE & FALSE\\\\\n\t ⋮ & ⋮ & ⋮ & ⋮ & ⋮\\\\\n\t FALSE & FALSE & FALSE & FALSE & FALSE\\\\\n\t FALSE & FALSE & FALSE & FALSE & FALSE\\\\\n\t FALSE & FALSE & FALSE & FALSE & FALSE\\\\\n\t FALSE & FALSE & FALSE & FALSE & FALSE\\\\\n\t FALSE & FALSE & FALSE & FALSE & FALSE\\\\\n\t FALSE & FALSE & FALSE & FALSE & FALSE\\\\\n\t FALSE & FALSE & FALSE & FALSE & FALSE\\\\\n\t FALSE & FALSE & FALSE & FALSE & FALSE\\\\\n\t FALSE & FALSE & FALSE & FALSE & FALSE\\\\\n\t FALSE & FALSE & FALSE & FALSE & FALSE\\\\\n\t FALSE & FALSE & FALSE & FALSE & FALSE\\\\\n\t FALSE & FALSE & FALSE & FALSE & FALSE\\\\\n\t FALSE & FALSE & FALSE & FALSE & FALSE\\\\\n\t FALSE & FALSE & FALSE & FALSE & FALSE\\\\\n\t FALSE & FALSE & FALSE & FALSE & FALSE\\\\\n\t FALSE & FALSE & FALSE & FALSE & FALSE\\\\\n\t FALSE & FALSE & FALSE & FALSE & FALSE\\\\\n\t FALSE & FALSE & FALSE & FALSE & FALSE\\\\\n\t FALSE & FALSE & FALSE & FALSE & FALSE\\\\\n\t FALSE & FALSE & FALSE & FALSE & FALSE\\\\\n\t FALSE & FALSE & FALSE & FALSE & FALSE\\\\\n\t FALSE & FALSE & FALSE & FALSE & FALSE\\\\\n\t FALSE & FALSE & FALSE & FALSE & FALSE\\\\\n\t FALSE & FALSE & FALSE & FALSE & FALSE\\\\\n\t FALSE & FALSE & FALSE & FALSE & FALSE\\\\\n\t FALSE & FALSE & FALSE & FALSE & FALSE\\\\\n\t FALSE & FALSE & FALSE & FALSE & FALSE\\\\\n\t FALSE & FALSE & FALSE & FALSE & FALSE\\\\\n\t FALSE & FALSE & FALSE & FALSE & FALSE\\\\\n\t FALSE & FALSE & FALSE & FALSE & FALSE\\\\\n\\end{tabular}\n",
            "text/markdown": "\nA matrix: 399 × 5 of type lgl\n\n| Diagnosis | ID | Gender | Age | Smoking |\n|---|---|---|---|---|\n| FALSE | FALSE | FALSE | FALSE | FALSE |\n| FALSE | FALSE | FALSE | FALSE | FALSE |\n| FALSE | FALSE | FALSE | FALSE | FALSE |\n| FALSE | FALSE | FALSE | FALSE | FALSE |\n| FALSE | FALSE | FALSE | FALSE | FALSE |\n| FALSE | FALSE | FALSE | FALSE | FALSE |\n| FALSE | FALSE | FALSE | FALSE | FALSE |\n| FALSE | FALSE | FALSE | FALSE | FALSE |\n| FALSE | FALSE | FALSE | FALSE | FALSE |\n| FALSE | FALSE | FALSE | FALSE | FALSE |\n| FALSE | FALSE | FALSE | FALSE | FALSE |\n| FALSE | FALSE | FALSE | FALSE | FALSE |\n| FALSE | FALSE | FALSE | FALSE | FALSE |\n| FALSE | FALSE | FALSE | FALSE | FALSE |\n| FALSE | FALSE | FALSE | FALSE | FALSE |\n| FALSE | FALSE | FALSE | FALSE | FALSE |\n| FALSE | FALSE | FALSE | FALSE | FALSE |\n| FALSE | FALSE | FALSE | FALSE | FALSE |\n| FALSE | FALSE | FALSE | FALSE | FALSE |\n| FALSE | FALSE | FALSE | FALSE | FALSE |\n| FALSE | FALSE | FALSE | FALSE | FALSE |\n| FALSE | FALSE | FALSE | FALSE | FALSE |\n| FALSE | FALSE | FALSE | FALSE | FALSE |\n| FALSE | FALSE | FALSE | FALSE | FALSE |\n| FALSE | FALSE | FALSE | FALSE | FALSE |\n| FALSE | FALSE | FALSE | FALSE | FALSE |\n| FALSE | FALSE | FALSE | FALSE | FALSE |\n| FALSE | FALSE | FALSE | FALSE | FALSE |\n| FALSE | FALSE | FALSE | FALSE | FALSE |\n| FALSE | FALSE | FALSE | FALSE | FALSE |\n| ⋮ | ⋮ | ⋮ | ⋮ | ⋮ |\n| FALSE | FALSE | FALSE | FALSE | FALSE |\n| FALSE | FALSE | FALSE | FALSE | FALSE |\n| FALSE | FALSE | FALSE | FALSE | FALSE |\n| FALSE | FALSE | FALSE | FALSE | FALSE |\n| FALSE | FALSE | FALSE | FALSE | FALSE |\n| FALSE | FALSE | FALSE | FALSE | FALSE |\n| FALSE | FALSE | FALSE | FALSE | FALSE |\n| FALSE | FALSE | FALSE | FALSE | FALSE |\n| FALSE | FALSE | FALSE | FALSE | FALSE |\n| FALSE | FALSE | FALSE | FALSE | FALSE |\n| FALSE | FALSE | FALSE | FALSE | FALSE |\n| FALSE | FALSE | FALSE | FALSE | FALSE |\n| FALSE | FALSE | FALSE | FALSE | FALSE |\n| FALSE | FALSE | FALSE | FALSE | FALSE |\n| FALSE | FALSE | FALSE | FALSE | FALSE |\n| FALSE | FALSE | FALSE | FALSE | FALSE |\n| FALSE | FALSE | FALSE | FALSE | FALSE |\n| FALSE | FALSE | FALSE | FALSE | FALSE |\n| FALSE | FALSE | FALSE | FALSE | FALSE |\n| FALSE | FALSE | FALSE | FALSE | FALSE |\n| FALSE | FALSE | FALSE | FALSE | FALSE |\n| FALSE | FALSE | FALSE | FALSE | FALSE |\n| FALSE | FALSE | FALSE | FALSE | FALSE |\n| FALSE | FALSE | FALSE | FALSE | FALSE |\n| FALSE | FALSE | FALSE | FALSE | FALSE |\n| FALSE | FALSE | FALSE | FALSE | FALSE |\n| FALSE | FALSE | FALSE | FALSE | FALSE |\n| FALSE | FALSE | FALSE | FALSE | FALSE |\n| FALSE | FALSE | FALSE | FALSE | FALSE |\n| FALSE | FALSE | FALSE | FALSE | FALSE |\n\n",
            "text/html": [
              "<table class=\"dataframe\">\n",
              "<caption>A matrix: 399 × 5 of type lgl</caption>\n",
              "<thead>\n",
              "\t<tr><th scope=col>Diagnosis</th><th scope=col>ID</th><th scope=col>Gender</th><th scope=col>Age</th><th scope=col>Smoking</th></tr>\n",
              "</thead>\n",
              "<tbody>\n",
              "\t<tr><td>FALSE</td><td>FALSE</td><td>FALSE</td><td>FALSE</td><td>FALSE</td></tr>\n",
              "\t<tr><td>FALSE</td><td>FALSE</td><td>FALSE</td><td>FALSE</td><td>FALSE</td></tr>\n",
              "\t<tr><td>FALSE</td><td>FALSE</td><td>FALSE</td><td>FALSE</td><td>FALSE</td></tr>\n",
              "\t<tr><td>FALSE</td><td>FALSE</td><td>FALSE</td><td>FALSE</td><td>FALSE</td></tr>\n",
              "\t<tr><td>FALSE</td><td>FALSE</td><td>FALSE</td><td>FALSE</td><td>FALSE</td></tr>\n",
              "\t<tr><td>FALSE</td><td>FALSE</td><td>FALSE</td><td>FALSE</td><td>FALSE</td></tr>\n",
              "\t<tr><td>FALSE</td><td>FALSE</td><td>FALSE</td><td>FALSE</td><td>FALSE</td></tr>\n",
              "\t<tr><td>FALSE</td><td>FALSE</td><td>FALSE</td><td>FALSE</td><td>FALSE</td></tr>\n",
              "\t<tr><td>FALSE</td><td>FALSE</td><td>FALSE</td><td>FALSE</td><td>FALSE</td></tr>\n",
              "\t<tr><td>FALSE</td><td>FALSE</td><td>FALSE</td><td>FALSE</td><td>FALSE</td></tr>\n",
              "\t<tr><td>FALSE</td><td>FALSE</td><td>FALSE</td><td>FALSE</td><td>FALSE</td></tr>\n",
              "\t<tr><td>FALSE</td><td>FALSE</td><td>FALSE</td><td>FALSE</td><td>FALSE</td></tr>\n",
              "\t<tr><td>FALSE</td><td>FALSE</td><td>FALSE</td><td>FALSE</td><td>FALSE</td></tr>\n",
              "\t<tr><td>FALSE</td><td>FALSE</td><td>FALSE</td><td>FALSE</td><td>FALSE</td></tr>\n",
              "\t<tr><td>FALSE</td><td>FALSE</td><td>FALSE</td><td>FALSE</td><td>FALSE</td></tr>\n",
              "\t<tr><td>FALSE</td><td>FALSE</td><td>FALSE</td><td>FALSE</td><td>FALSE</td></tr>\n",
              "\t<tr><td>FALSE</td><td>FALSE</td><td>FALSE</td><td>FALSE</td><td>FALSE</td></tr>\n",
              "\t<tr><td>FALSE</td><td>FALSE</td><td>FALSE</td><td>FALSE</td><td>FALSE</td></tr>\n",
              "\t<tr><td>FALSE</td><td>FALSE</td><td>FALSE</td><td>FALSE</td><td>FALSE</td></tr>\n",
              "\t<tr><td>FALSE</td><td>FALSE</td><td>FALSE</td><td>FALSE</td><td>FALSE</td></tr>\n",
              "\t<tr><td>FALSE</td><td>FALSE</td><td>FALSE</td><td>FALSE</td><td>FALSE</td></tr>\n",
              "\t<tr><td>FALSE</td><td>FALSE</td><td>FALSE</td><td>FALSE</td><td>FALSE</td></tr>\n",
              "\t<tr><td>FALSE</td><td>FALSE</td><td>FALSE</td><td>FALSE</td><td>FALSE</td></tr>\n",
              "\t<tr><td>FALSE</td><td>FALSE</td><td>FALSE</td><td>FALSE</td><td>FALSE</td></tr>\n",
              "\t<tr><td>FALSE</td><td>FALSE</td><td>FALSE</td><td>FALSE</td><td>FALSE</td></tr>\n",
              "\t<tr><td>FALSE</td><td>FALSE</td><td>FALSE</td><td>FALSE</td><td>FALSE</td></tr>\n",
              "\t<tr><td>FALSE</td><td>FALSE</td><td>FALSE</td><td>FALSE</td><td>FALSE</td></tr>\n",
              "\t<tr><td>FALSE</td><td>FALSE</td><td>FALSE</td><td>FALSE</td><td>FALSE</td></tr>\n",
              "\t<tr><td>FALSE</td><td>FALSE</td><td>FALSE</td><td>FALSE</td><td>FALSE</td></tr>\n",
              "\t<tr><td>FALSE</td><td>FALSE</td><td>FALSE</td><td>FALSE</td><td>FALSE</td></tr>\n",
              "\t<tr><td>⋮</td><td>⋮</td><td>⋮</td><td>⋮</td><td>⋮</td></tr>\n",
              "\t<tr><td>FALSE</td><td>FALSE</td><td>FALSE</td><td>FALSE</td><td>FALSE</td></tr>\n",
              "\t<tr><td>FALSE</td><td>FALSE</td><td>FALSE</td><td>FALSE</td><td>FALSE</td></tr>\n",
              "\t<tr><td>FALSE</td><td>FALSE</td><td>FALSE</td><td>FALSE</td><td>FALSE</td></tr>\n",
              "\t<tr><td>FALSE</td><td>FALSE</td><td>FALSE</td><td>FALSE</td><td>FALSE</td></tr>\n",
              "\t<tr><td>FALSE</td><td>FALSE</td><td>FALSE</td><td>FALSE</td><td>FALSE</td></tr>\n",
              "\t<tr><td>FALSE</td><td>FALSE</td><td>FALSE</td><td>FALSE</td><td>FALSE</td></tr>\n",
              "\t<tr><td>FALSE</td><td>FALSE</td><td>FALSE</td><td>FALSE</td><td>FALSE</td></tr>\n",
              "\t<tr><td>FALSE</td><td>FALSE</td><td>FALSE</td><td>FALSE</td><td>FALSE</td></tr>\n",
              "\t<tr><td>FALSE</td><td>FALSE</td><td>FALSE</td><td>FALSE</td><td>FALSE</td></tr>\n",
              "\t<tr><td>FALSE</td><td>FALSE</td><td>FALSE</td><td>FALSE</td><td>FALSE</td></tr>\n",
              "\t<tr><td>FALSE</td><td>FALSE</td><td>FALSE</td><td>FALSE</td><td>FALSE</td></tr>\n",
              "\t<tr><td>FALSE</td><td>FALSE</td><td>FALSE</td><td>FALSE</td><td>FALSE</td></tr>\n",
              "\t<tr><td>FALSE</td><td>FALSE</td><td>FALSE</td><td>FALSE</td><td>FALSE</td></tr>\n",
              "\t<tr><td>FALSE</td><td>FALSE</td><td>FALSE</td><td>FALSE</td><td>FALSE</td></tr>\n",
              "\t<tr><td>FALSE</td><td>FALSE</td><td>FALSE</td><td>FALSE</td><td>FALSE</td></tr>\n",
              "\t<tr><td>FALSE</td><td>FALSE</td><td>FALSE</td><td>FALSE</td><td>FALSE</td></tr>\n",
              "\t<tr><td>FALSE</td><td>FALSE</td><td>FALSE</td><td>FALSE</td><td>FALSE</td></tr>\n",
              "\t<tr><td>FALSE</td><td>FALSE</td><td>FALSE</td><td>FALSE</td><td>FALSE</td></tr>\n",
              "\t<tr><td>FALSE</td><td>FALSE</td><td>FALSE</td><td>FALSE</td><td>FALSE</td></tr>\n",
              "\t<tr><td>FALSE</td><td>FALSE</td><td>FALSE</td><td>FALSE</td><td>FALSE</td></tr>\n",
              "\t<tr><td>FALSE</td><td>FALSE</td><td>FALSE</td><td>FALSE</td><td>FALSE</td></tr>\n",
              "\t<tr><td>FALSE</td><td>FALSE</td><td>FALSE</td><td>FALSE</td><td>FALSE</td></tr>\n",
              "\t<tr><td>FALSE</td><td>FALSE</td><td>FALSE</td><td>FALSE</td><td>FALSE</td></tr>\n",
              "\t<tr><td>FALSE</td><td>FALSE</td><td>FALSE</td><td>FALSE</td><td>FALSE</td></tr>\n",
              "\t<tr><td>FALSE</td><td>FALSE</td><td>FALSE</td><td>FALSE</td><td>FALSE</td></tr>\n",
              "\t<tr><td>FALSE</td><td>FALSE</td><td>FALSE</td><td>FALSE</td><td>FALSE</td></tr>\n",
              "\t<tr><td>FALSE</td><td>FALSE</td><td>FALSE</td><td>FALSE</td><td>FALSE</td></tr>\n",
              "\t<tr><td>FALSE</td><td>FALSE</td><td>FALSE</td><td>FALSE</td><td>FALSE</td></tr>\n",
              "\t<tr><td>FALSE</td><td>FALSE</td><td>FALSE</td><td>FALSE</td><td>FALSE</td></tr>\n",
              "\t<tr><td>FALSE</td><td>FALSE</td><td>FALSE</td><td>FALSE</td><td>FALSE</td></tr>\n",
              "</tbody>\n",
              "</table>\n"
            ]
          },
          "metadata": {}
        }
      ]
    },
    {
      "cell_type": "code",
      "metadata": {
        "colab": {
          "base_uri": "https://localhost:8080/",
          "height": 276
        },
        "id": "RpZlqXpqc-ve",
        "outputId": "9fbcd19a-b115-4111-f93b-77d473a1072f"
      },
      "source": [
        "head(exa)"
      ],
      "execution_count": 57,
      "outputs": [
        {
          "output_type": "display_data",
          "data": {
            "text/plain": [
              "  Diagnosis ID    Gender Age Smoking\n",
              "1 COPD      301-4 1      77  2      \n",
              "2 COPD      302-3 0      72  2      \n",
              "3 COPD      303-3 1      73  3      \n",
              "4 COPD      304-4 1      76  2      \n",
              "5 COPD      305-4 0      65  2      \n",
              "6 COPD      306-3 1      60  2      "
            ],
            "text/latex": "A data.frame: 6 × 5\n\\begin{tabular}{r|lllll}\n  & Diagnosis & ID & Gender & Age & Smoking\\\\\n  & <chr> & <chr> & <int> & <int> & <fct>\\\\\n\\hline\n\t1 & COPD & 301-4 & 1 & 77 & 2\\\\\n\t2 & COPD & 302-3 & 0 & 72 & 2\\\\\n\t3 & COPD & 303-3 & 1 & 73 & 3\\\\\n\t4 & COPD & 304-4 & 1 & 76 & 2\\\\\n\t5 & COPD & 305-4 & 0 & 65 & 2\\\\\n\t6 & COPD & 306-3 & 1 & 60 & 2\\\\\n\\end{tabular}\n",
            "text/markdown": "\nA data.frame: 6 × 5\n\n| <!--/--> | Diagnosis &lt;chr&gt; | ID &lt;chr&gt; | Gender &lt;int&gt; | Age &lt;int&gt; | Smoking &lt;fct&gt; |\n|---|---|---|---|---|---|\n| 1 | COPD | 301-4 | 1 | 77 | 2 |\n| 2 | COPD | 302-3 | 0 | 72 | 2 |\n| 3 | COPD | 303-3 | 1 | 73 | 3 |\n| 4 | COPD | 304-4 | 1 | 76 | 2 |\n| 5 | COPD | 305-4 | 0 | 65 | 2 |\n| 6 | COPD | 306-3 | 1 | 60 | 2 |\n\n",
            "text/html": [
              "<table class=\"dataframe\">\n",
              "<caption>A data.frame: 6 × 5</caption>\n",
              "<thead>\n",
              "\t<tr><th></th><th scope=col>Diagnosis</th><th scope=col>ID</th><th scope=col>Gender</th><th scope=col>Age</th><th scope=col>Smoking</th></tr>\n",
              "\t<tr><th></th><th scope=col>&lt;chr&gt;</th><th scope=col>&lt;chr&gt;</th><th scope=col>&lt;int&gt;</th><th scope=col>&lt;int&gt;</th><th scope=col>&lt;fct&gt;</th></tr>\n",
              "</thead>\n",
              "<tbody>\n",
              "\t<tr><th scope=row>1</th><td>COPD</td><td>301-4</td><td>1</td><td>77</td><td>2</td></tr>\n",
              "\t<tr><th scope=row>2</th><td>COPD</td><td>302-3</td><td>0</td><td>72</td><td>2</td></tr>\n",
              "\t<tr><th scope=row>3</th><td>COPD</td><td>303-3</td><td>1</td><td>73</td><td>3</td></tr>\n",
              "\t<tr><th scope=row>4</th><td>COPD</td><td>304-4</td><td>1</td><td>76</td><td>2</td></tr>\n",
              "\t<tr><th scope=row>5</th><td>COPD</td><td>305-4</td><td>0</td><td>65</td><td>2</td></tr>\n",
              "\t<tr><th scope=row>6</th><td>COPD</td><td>306-3</td><td>1</td><td>60</td><td>2</td></tr>\n",
              "</tbody>\n",
              "</table>\n"
            ]
          },
          "metadata": {}
        }
      ]
    },
    {
      "cell_type": "markdown",
      "metadata": {
        "id": "X-r_doBJ360e"
      },
      "source": [
        "## Data Visualization"
      ]
    },
    {
      "cell_type": "code",
      "metadata": {
        "id": "D-R3rgvQhEad"
      },
      "source": [
        "describe(exa)"
      ],
      "execution_count": null,
      "outputs": []
    },
    {
      "cell_type": "code",
      "metadata": {
        "id": "pvsIFwml360e"
      },
      "source": [
        "#1.\tFind the correlation between the dataset variables and explain the output.\n",
        "model <- lm(Age ~ Diagnosis + Smoking + Gender, data = exa)\n",
        "\n",
        "# For this correlation one variable depends increases the other increases too"
      ],
      "execution_count": 112,
      "outputs": []
    },
    {
      "cell_type": "code",
      "metadata": {
        "colab": {
          "base_uri": "https://localhost:8080/",
          "height": 391
        },
        "id": "oK-W1qTdu8zy",
        "outputId": "1d54f943-14cb-42ee-96d4-d4429866bf5d"
      },
      "source": [
        "summary(model)"
      ],
      "execution_count": 113,
      "outputs": [
        {
          "output_type": "display_data",
          "data": {
            "text/plain": [
              "\n",
              "Call:\n",
              "lm(formula = Age ~ Diagnosis + Smoking + Gender, data = exa)\n",
              "\n",
              "Residuals:\n",
              "    Min      1Q  Median      3Q     Max \n",
              "-33.743  -9.177   0.742   8.216  37.591 \n",
              "\n",
              "Coefficients:\n",
              "                  Estimate Std. Error t value Pr(>|t|)    \n",
              "(Intercept)         52.399      1.753  29.895  < 2e-16 ***\n",
              "DiagnosisCOPD       12.710      2.264   5.615 3.73e-08 ***\n",
              "DiagnosisHC        -14.454      1.858  -7.780 6.49e-14 ***\n",
              "DiagnosisInfected  -14.990      2.138  -7.011 1.04e-11 ***\n",
              "Smoking2             6.149      1.670   3.683 0.000263 ***\n",
              "Smoking3            -1.656      1.892  -0.876 0.381767    \n",
              "Gender               1.510      1.441   1.048 0.295409    \n",
              "---\n",
              "Signif. codes:  0 ‘***’ 0.001 ‘**’ 0.01 ‘*’ 0.05 ‘.’ 0.1 ‘ ’ 1\n",
              "\n",
              "Residual standard error: 13.32 on 392 degrees of freedom\n",
              "Multiple R-squared:  0.4929,\tAdjusted R-squared:  0.4851 \n",
              "F-statistic:  63.5 on 6 and 392 DF,  p-value: < 2.2e-16\n"
            ]
          },
          "metadata": {}
        }
      ]
    },
    {
      "cell_type": "code",
      "metadata": {
        "id": "fNDq13A4u7Sd"
      },
      "source": [
        "cor <- cor.test(as.numeric(exa$Gender), exa$Age, method = \"pearson\")"
      ],
      "execution_count": 123,
      "outputs": []
    },
    {
      "cell_type": "code",
      "metadata": {
        "colab": {
          "base_uri": "https://localhost:8080/",
          "height": 180
        },
        "id": "b7gY6N-Bqe8W",
        "outputId": "b41e0f70-40d5-4d68-eb1a-97a40654babd"
      },
      "source": [
        "summary(cor)"
      ],
      "execution_count": 124,
      "outputs": [
        {
          "output_type": "display_data",
          "data": {
            "text/plain": [
              "            Length Class  Mode     \n",
              "statistic   1      -none- numeric  \n",
              "parameter   1      -none- numeric  \n",
              "p.value     1      -none- numeric  \n",
              "estimate    1      -none- numeric  \n",
              "null.value  1      -none- numeric  \n",
              "alternative 1      -none- character\n",
              "method      1      -none- character\n",
              "data.name   1      -none- character\n",
              "conf.int    2      -none- numeric  "
            ]
          },
          "metadata": {}
        }
      ]
    },
    {
      "cell_type": "code",
      "metadata": {
        "id": "0_pLbj9z360e",
        "colab": {
          "base_uri": "https://localhost:8080/",
          "height": 175
        },
        "outputId": "9e89fadc-7f76-4411-aee8-4bfff6d142ff"
      },
      "source": [
        "#2.\tPlot the correlation between variables.\n"
      ],
      "execution_count": 100,
      "outputs": [
        {
          "output_type": "error",
          "ename": "ERROR",
          "evalue": "ignored",
          "traceback": [
            "Error in xy.coords(x, y, xlabel, ylabel, log): 'x' and 'y' lengths differ\nTraceback:\n",
            "1. plot(cor, exa$Smoking)",
            "2. plot.default(cor, exa$Smoking)",
            "3. xy.coords(x, y, xlabel, ylabel, log)",
            "4. stop(\"'x' and 'y' lengths differ\")"
          ]
        }
      ]
    },
    {
      "cell_type": "code",
      "metadata": {
        "colab": {
          "base_uri": "https://localhost:8080/",
          "height": 1000
        },
        "id": "tIYXsYg2fCVm",
        "outputId": "b58778e2-c516-4d7f-9f71-6386647f3fd7"
      },
      "source": [
        "corrplot(exa)"
      ],
      "execution_count": 102,
      "outputs": [
        {
          "output_type": "error",
          "ename": "ERROR",
          "evalue": "ignored",
          "traceback": [
            "Error in FUN(X[[i]], ...): only defined on a data frame with all numeric-alike variables\nTraceback:\n",
            "1. corrplot(exa)",
            "2. Summary.data.frame(structure(list(Diagnosis = c(\"COPD\", \"COPD\", \n . \"COPD\", \"COPD\", \"COPD\", \"COPD\", \"COPD\", \"COPD\", \"COPD\", \"COPD\", \n . \"COPD\", \"COPD\", \"COPD\", \"COPD\", \"COPD\", \"COPD\", \"COPD\", \"COPD\", \n . \"COPD\", \"COPD\", \"COPD\", \"COPD\", \"COPD\", \"COPD\", \"COPD\", \"COPD\", \n . \"COPD\", \"COPD\", \"COPD\", \"COPD\", \"COPD\", \"COPD\", \"COPD\", \"COPD\", \n . \"COPD\", \"COPD\", \"COPD\", \"COPD\", \"COPD\", \"COPD\", \"COPD\", \"COPD\", \n . \"COPD\", \"COPD\", \"COPD\", \"COPD\", \"COPD\", \"COPD\", \"COPD\", \"COPD\", \n . \"COPD\", \"COPD\", \"COPD\", \"COPD\", \"COPD\", \"COPD\", \"COPD\", \"COPD\", \n . \"COPD\", \"COPD\", \"COPD\", \"COPD\", \"COPD\", \"COPD\", \"COPD\", \"COPD\", \n . \"COPD\", \"COPD\", \"COPD\", \"COPD\", \"COPD\", \"COPD\", \"COPD\", \"COPD\", \n . \"COPD\", \"COPD\", \"COPD\", \"COPD\", \"COPD\", \"HC\", \"HC\", \"HC\", \"HC\", \n . \"HC\", \"HC\", \"HC\", \"HC\", \"HC\", \"HC\", \"HC\", \"HC\", \"HC\", \"HC\", \"HC\", \n . \"HC\", \"HC\", \"HC\", \"HC\", \"HC\", \"HC\", \"HC\", \"HC\", \"HC\", \"HC\", \"HC\", \n . \"HC\", \"HC\", \"HC\", \"HC\", \"HC\", \"HC\", \"HC\", \"HC\", \"HC\", \"HC\", \"HC\", \n . \"HC\", \"HC\", \"HC\", \"HC\", \"HC\", \"HC\", \"HC\", \"HC\", \"HC\", \"HC\", \"HC\", \n . \"HC\", \"HC\", \"HC\", \"HC\", \"HC\", \"HC\", \"HC\", \"HC\", \"HC\", \"HC\", \"HC\", \n . \"HC\", \"HC\", \"HC\", \"HC\", \"HC\", \"HC\", \"HC\", \"HC\", \"HC\", \"HC\", \"HC\", \n . \"HC\", \"HC\", \"HC\", \"HC\", \"HC\", \"HC\", \"HC\", \"HC\", \"HC\", \"HC\", \"HC\", \n . \"HC\", \"HC\", \"HC\", \"HC\", \"HC\", \"HC\", \"HC\", \"HC\", \"HC\", \"HC\", \"HC\", \n . \"HC\", \"HC\", \"HC\", \"HC\", \"HC\", \"HC\", \"HC\", \"HC\", \"HC\", \"HC\", \"HC\", \n . \"HC\", \"HC\", \"HC\", \"HC\", \"HC\", \"HC\", \"HC\", \"HC\", \"HC\", \"HC\", \"HC\", \n . \"HC\", \"HC\", \"HC\", \"HC\", \"HC\", \"HC\", \"HC\", \"HC\", \"HC\", \"HC\", \"HC\", \n . \"HC\", \"HC\", \"HC\", \"HC\", \"HC\", \"HC\", \"HC\", \"HC\", \"HC\", \"HC\", \"HC\", \n . \"HC\", \"HC\", \"HC\", \"HC\", \"HC\", \"HC\", \"HC\", \"HC\", \"HC\", \"HC\", \"HC\", \n . \"HC\", \"HC\", \"HC\", \"HC\", \"HC\", \"HC\", \"HC\", \"HC\", \"HC\", \"HC\", \"HC\", \n . \"HC\", \"HC\", \"Asthma\", \"Asthma\", \"Asthma\", \"Asthma\", \"Asthma\", \n . \"Asthma\", \"Asthma\", \"Asthma\", \"Asthma\", \"Asthma\", \"Asthma\", \"Asthma\", \n . \"Asthma\", \"Asthma\", \"Asthma\", \"Asthma\", \"Asthma\", \"Asthma\", \"Asthma\", \n . \"Asthma\", \"Asthma\", \"Asthma\", \"Asthma\", \"Asthma\", \"Asthma\", \"Asthma\", \n . \"Asthma\", \"Asthma\", \"Asthma\", \"Asthma\", \"Asthma\", \"Asthma\", \"Asthma\", \n . \"Asthma\", \"Asthma\", \"Asthma\", \"Asthma\", \"Asthma\", \"Asthma\", \"Asthma\", \n . \"Asthma\", \"Asthma\", \"Asthma\", \"Asthma\", \"Asthma\", \"Asthma\", \"Asthma\", \n . \"Asthma\", \"Asthma\", \"Asthma\", \"Asthma\", \"Asthma\", \"Asthma\", \"Asthma\", \n . \"Asthma\", \"Asthma\", \"Asthma\", \"Asthma\", \"Asthma\", \"Asthma\", \"Asthma\", \n . \"Asthma\", \"Asthma\", \"Asthma\", \"Asthma\", \"Asthma\", \"Asthma\", \"Asthma\", \n . \"Asthma\", \"Asthma\", \"Asthma\", \"Asthma\", \"Asthma\", \"Asthma\", \"Asthma\", \n . \"Asthma\", \"Asthma\", \"Asthma\", \"Asthma\", \"Asthma\", \"Infected\", \n . \"Infected\", \"Infected\", \"Infected\", \"Infected\", \"Infected\", \"Infected\", \n . \"Infected\", \"Infected\", \"Infected\", \"Infected\", \"Infected\", \"Infected\", \n . \"Infected\", \"Infected\", \"Infected\", \"Infected\", \"Infected\", \"Infected\", \n . \"Infected\", \"Infected\", \"Infected\", \"Infected\", \"Infected\", \"Infected\", \n . \"Infected\", \"Infected\", \"Infected\", \"Infected\", \"Infected\", \"Infected\", \n . \"Infected\", \"Infected\", \"Infected\", \"Infected\", \"Infected\", \"Infected\", \n . \"Infected\", \"Infected\", \"Infected\", \"Infected\", \"Infected\", \"Infected\", \n . \"Infected\", \"Infected\", \"Infected\", \"Infected\", \"Infected\", \"Infected\", \n . \"Infected\", \"Infected\", \"Infected\", \"Infected\", \"Infected\", \"Infected\", \n . \"Infected\", \"Infected\", \"Infected\", \"Infected\", \"Infected\", \"Infected\", \n . \"Infected\", \"Infected\", \"Infected\", \"Infected\", \"Infected\", \"Infected\", \n . \"Infected\", \"Infected\", \"Infected\", \"Infected\", \"Infected\", \"Infected\", \n . \"Infected\", \"Infected\", \"Infected\", \"Infected\", \"Infected\", \"Infected\", \n . \"Infected\"), ID = c(\"301-4\", \"302-3\", \"303-3\", \"304-4\", \"305-4\", \n . \"306-3\", \"307-3\", \"308\", \"309-4\", \"310-4\", \"311-4\", \"312-4\", \n . \"313-4\", \"314-4\", \"315-4\", \"316\", \"317\", \"318-4\", \"319-4\", \"320-4\", \n . \"321-4\", \"322-4\", \"323-4\", \"324\", \"325-4\", \"326-4\", \"327-4\", \n . \"328-7\", \"329-4\", \"330\", \"331\", \"332-4\", \"333-4\", \"334-4\", \"335\", \n . \"336-4\", \"337\", \"338-3\", \"339\", \"340-3\", \"341-5\", \"342-5\", \"343-5\", \n . \"344-5\", \"345-5\", \"346-5\", \"347-5\", \"348-5\", \"349-5\", \"350\", \n . \"351\", \"352\", \"353\", \"354\", \"355\", \"356\", \"357\", \"358\", \"359\", \n . \"360\", \"361\", \"362\", \"363\", \"364\", \"365\", \"366\", \"367\", \"368\", \n . \"369\", \"370\", \"371\", \"372\", \"373\", \"374\", \"375\", \"376\", \"377\", \n . \"378\", \"379\", \"1\", \"2\", \"3\", \"4\", \"5\", \"6\", \"7\", \"8\", \"9\", \"10\", \n . \"11\", \"12\", \"13\", \"14-5\", \"15-3\", \"16-5\", \"17\", \"18-4\", \"19-5\", \n . \"20\", \"21-3\", \"22\", \"23\", \"24\", \"25\", \"26-3\", \"27\", \"28\", \"29\", \n . \"30\", \"31-3\", \"32\", \"33\", \"34-5\", \"35-4\", \"36-5\", \"37-4\", \"38-3\", \n . \"39\", \"40-2\", \"41\", \"42\", \"43-4\", \"44-4\", \"45\", \"46\", \"47-4\", \n . \"48\", \"49\", \"50\", \"51-4\", \"52-4\", \"53-4\", \"54\", \"55-4\", \"56\", \n . \"57\", \"58\", \"59-4\", \"60-4\", \"61-4\", \"62\", \"63-3\", \"64-4\", \"65-4\", \n . \"66-3\", \"67\", \"68-5\", \"69-4\", \"70\", \"71-5\", \"72-2\", \"73-5\", \"74-4\", \n . \"75-4\", \"76-3\", \"77-3\", \"78-3\", \"79-3\", \"80-3\", \"81\", \"82\", \"83\", \n . \"84\", \"85\", \"86\", \"87\", \"88\", \"89\", \"90\", \"91\", \"92\", \"93\", \"94\", \n . \"95\", \"96\", \"97\", \"98\", \"99\", \"100\", \"101\", \"102\", \"103\", \"104\", \n . \"105\", \"106\", \"107\", \"108\", \"109\", \"110\", \"111\", \"112\", \"113\", \n . \"114\", \"115\", \"116\", \"117\", \"118\", \"119\", \"120\", \"121\", \"122\", \n . \"123\", \"124\", \"125\", \"126\", \"127\", \"128\", \"129\", \"130\", \"131\", \n . \"132\", \"133\", \"134\", \"135\", \"136\", \"137\", \"138\", \"139\", \"140\", \n . \"141\", \"142\", \"143\", \"144\", \"145\", \"146\", \"147\", \"148\", \"149\", \n . \"150\", \"151\", \"152\", \"153\", \"154\", \"155\", \"156\", \"157\", \"158\", \n . \"159\", \"160\", \"A201\", \"A202\", \"A203\", \"A204\", \"A205\", \"A206\", \n . \"A207\", \"A208\", \"A209\", \"A210\", \"A211\", \"A212\", \"A213\", \"A214\", \n . \"A215\", \"A216\", \"A217\", \"A218-1\", \"A219-4\", \"A220-3\", \"A221-4\", \n . \"A222-2\", \"A223-4\", \"A224-2\", \"A225-4\", \"A226-3\", \"A227-4\", \"A228\", \n . \"A229\", \"A230\", \"A231\", \"A232\", \"A233\", \"A234\", \"A235\", \"A236\", \n . \"A237\", \"A238\", \"A239\", \"A240\", \"A241\", \"A242\", \"A243\", \"A244\", \n . \"A245\", \"A246\", \"A247\", \"A248\", \"A249\", \"A250\", \"A251\", \"A252\", \n . \"A253\", \"A254\", \"A255\", \"A256\", \"A257\", \"A258\", \"A259\", \"A260\", \n . \"A261\", \"A262\", \"A263\", \"A264\", \"A265\", \"A266\", \"A267\", \"A268\", \n . \"A269\", \"A270\", \"A271\", \"A272\", \"A273\", \"A274\", \"A275\", \"A276\", \n . \"A277\", \"A278\", \"A279\", \"A280\", \"I101\", \"I102\", \"I103\", \"I104\", \n . \"I105\", \"I106\", \"I107\", \"I108\", \"I109\", \"I110\", \"I111\", \"I112\", \n . \"I113\", \"I114\", \"I115\", \"I116\", \"I117\", \"I118\", \"I119\", \"I120\", \n . \"I121\", \"I122\", \"I123\", \"I124\", \"I125\", \"I126\", \"I127\", \"I128\", \n . \"I129\", \"I130\", \"I131\", \"I132\", \"I133\", \"I134\", \"I135\", \"I136\", \n . \"I137\", \"I138\", \"I139\", \"I140\", \"I141\", \"I142\", \"143-5\", \"144-5\", \n . \"145-5\", \"146-5\", \"147-5\", \"148-5\", \"149-5\", \"150-5\", \"151-4\", \n . \"I152\", \"I153\", \"I154\", \"I155\", \"I156\", \"157-3\", \"I158\", \"I159\", \n . \"I160\", \"I161\", \"I162\", \"I163\", \"I164\", \"I165\", \"I166\", \"I167\", \n . \"I168\", \"I169\", \"I170\", \"I171\", \"I172\", \"I173\", \"I174\", \"I175\", \n . \"I176\", \"I177\", \"I178\", \"I179\", \"I180\"), Gender = c(1L, 0L, 1L, \n . 1L, 0L, 1L, 1L, 1L, 1L, 1L, 1L, 1L, 0L, 1L, 0L, 1L, 1L, 1L, 1L, \n . 1L, 1L, 1L, 1L, 1L, 1L, 0L, 0L, 1L, 1L, 1L, 1L, 1L, 1L, 1L, 0L, \n . 1L, 0L, 1L, 0L, 1L, 1L, 1L, 0L, 1L, 0L, 1L, 1L, 1L, 1L, 0L, 1L, \n . 1L, 0L, 0L, 0L, 1L, 1L, 0L, 1L, 0L, 1L, 1L, 1L, 1L, 1L, 0L, 1L, \n . 1L, 0L, 1L, 1L, 0L, 1L, 1L, 0L, 0L, 0L, 1L, 1L, 0L, 0L, 0L, 0L, \n . 0L, 0L, 0L, 0L, 0L, 0L, 0L, 0L, 0L, 0L, 1L, 0L, 1L, 1L, 0L, 0L, \n . 0L, 0L, 1L, 0L, 0L, 1L, 1L, 0L, 1L, 1L, 0L, 0L, 0L, 0L, 0L, 0L, \n . 0L, 0L, 0L, 0L, 0L, 0L, 1L, 0L, 1L, 0L, 0L, 0L, 0L, 0L, 1L, 0L, \n . 1L, 1L, 0L, 1L, 0L, 1L, 1L, 1L, 1L, 0L, 0L, 1L, 1L, 1L, 1L, 1L, \n . 1L, 1L, 1L, 1L, 1L, 1L, 1L, 1L, 1L, 1L, 1L, 0L, 0L, 0L, 0L, 0L, \n . 0L, 0L, 0L, 1L, 0L, 0L, 0L, 0L, 1L, 1L, 0L, 0L, 0L, 0L, 0L, 0L, \n . 0L, 0L, 0L, 0L, 1L, 0L, 0L, 0L, 0L, 0L, 0L, 0L, 0L, 1L, 1L, 0L, \n . 0L, 0L, 0L, 1L, 0L, 1L, 0L, 0L, 0L, 1L, 0L, 1L, 1L, 0L, 1L, 0L, \n . 1L, 1L, 0L, 0L, 0L, 1L, 1L, 0L, 0L, 1L, 0L, 1L, 0L, 1L, 0L, 0L, \n . 1L, 0L, 0L, 0L, 1L, 0L, 0L, 0L, 0L, 0L, 1L, 0L, 0L, 0L, 0L, 0L, \n . 1L, 0L, 0L, 0L, 0L, 0L, 0L, 0L, 0L, 0L, 0L, 0L, 0L, 1L, 0L, 1L, \n . 0L, 0L, 0L, 0L, 0L, 0L, 0L, 0L, 0L, 1L, 0L, 0L, 1L, 1L, 0L, 0L, \n . 0L, 1L, 1L, 1L, 0L, 0L, 1L, 0L, 0L, 0L, 0L, 1L, 0L, 0L, 0L, 0L, \n . 1L, 0L, 1L, 1L, 1L, 0L, 1L, 0L, 1L, 1L, 1L, 0L, 1L, 1L, 0L, 0L, \n . 1L, 0L, 0L, 0L, 0L, 0L, 1L, 0L, 1L, 1L, 0L, 0L, 0L, 0L, 0L, 0L, \n . 0L, 0L, 0L, 1L, 0L, 0L, 0L, 0L, 1L, 1L, 0L, 0L, 0L, 0L, 0L, 0L, \n . 0L, 0L, 0L, 0L, 1L, 0L, 0L, 0L, 0L, 0L, 0L, 0L, 0L, 1L, 1L, 0L, \n . 0L, 0L, 0L, 1L, 0L, 1L, 0L, 0L, 0L, 1L, 0L, 1L, 1L, 0L, 1L, 0L, \n . 1L, 1L, 0L, 0L, 0L, 1L, 1L, 0L, 0L, 1L, 0L, 1L, 0L, 1L, 0L, 0L, \n . 1L, 0L, 0L, 0L, 1L, 0L, 0L, 0L, 0L, 0L, 1L, 0L), Age = c(77L, \n . 72L, 73L, 76L, 65L, 60L, 76L, 77L, 74L, 67L, 65L, 75L, 56L, 75L, \n . 65L, 45L, 69L, 93L, 70L, 75L, 75L, 75L, 75L, 64L, 69L, 84L, 49L, \n . 72L, 75L, 73L, 85L, 73L, 85L, 78L, 63L, 78L, 76L, 64L, 79L, 81L, \n . 77L, 68L, 71L, 71L, 54L, 66L, 68L, 77L, 68L, 75L, 76L, 35L, 72L, \n . 79L, 86L, 65L, 84L, 68L, 76L, 70L, 67L, 63L, 68L, 81L, 77L, 68L, \n . 53L, 74L, 65L, 69L, 74L, 65L, 78L, 72L, 62L, 60L, 70L, 72L, 77L, \n . 45L, 56L, 56L, 57L, 62L, 57L, 34L, 25L, 39L, 45L, 61L, 35L, 45L, \n . 50L, 41L, 41L, 50L, 27L, 21L, 34L, 58L, 30L, 49L, 18L, 27L, 44L, \n . 32L, 56L, 57L, 41L, 38L, 52L, 51L, 23L, 39L, 53L, 55L, 42L, 24L, \n . 42L, 28L, 26L, 31L, 26L, 38L, 56L, 27L, 53L, 21L, 23L, 29L, 23L, \n . 60L, 50L, 43L, 37L, 47L, 42L, 48L, 27L, 28L, 25L, 63L, 46L, 64L, \n . 48L, 53L, 25L, 52L, 53L, 52L, 28L, 52L, 18L, 20L, 19L, 19L, 18L, \n . 34L, 55L, 38L, 30L, 22L, 51L, 31L, 40L, 28L, 53L, 38L, 24L, 45L, \n . 51L, 47L, 64L, 57L, 59L, 49L, 58L, 58L, 28L, 29L, 25L, 37L, 58L, \n . 62L, 48L, 18L, 27L, 39L, 28L, 22L, 51L, 54L, 33L, 40L, 63L, 55L, \n . 29L, 17L, 27L, 75L, 27L, 28L, 27L, 31L, 22L, 50L, 38L, 36L, 33L, \n . 43L, 39L, 29L, 39L, 53L, 25L, 25L, 49L, 29L, 21L, 45L, 30L, 28L, \n . 51L, 35L, 37L, 40L, 39L, 19L, 22L, 41L, 25L, 27L, 56L, 46L, 49L, \n . 37L, 29L, 51L, 40L, 19L, 33L, 30L, 20L, 63L, 21L, 51L, 68L, 37L, \n . 53L, 52L, 48L, 81L, 25L, 50L, 76L, 55L, 57L, 46L, 53L, 60L, 76L, \n . 44L, 26L, 17L, 40L, 58L, 35L, 49L, 57L, 40L, 37L, 78L, 28L, 79L, \n . 38L, 22L, 80L, 43L, 61L, 72L, 81L, 49L, 76L, 64L, 77L, 57L, 77L, \n . 51L, 49L, 56L, 67L, 73L, 63L, 65L, 51L, 51L, 50L, 53L, 64L, 65L, \n . 65L, 66L, 75L, 55L, 88L, 64L, 68L, 80L, 21L, 63L, 61L, 77L, 64L, \n . 67L, 76L, 29L, 67L, 73L, 54L, 38L, 30L, 22L, 51L, 31L, 40L, 28L, \n . 53L, 38L, 24L, 45L, 51L, 47L, 64L, 57L, 59L, 49L, 58L, 58L, 28L, \n . 29L, 25L, 37L, 58L, 62L, 48L, 18L, 27L, 39L, 28L, 22L, 51L, 54L, \n . 33L, 40L, 63L, 55L, 29L, 17L, 27L, 75L, 27L, 28L, 27L, 31L, 22L, \n . 50L, 38L, 36L, 33L, 43L, 39L, 29L, 39L, 53L, 25L, 25L, 49L, 29L, \n . 21L, 45L, 30L, 28L, 51L, 35L, 37L, 40L, 39L, 19L, 22L, 41L, 25L, \n . 27L, 56L, 46L, 49L, 37L, 29L, 51L, 40L), Smoking = structure(c(2L, \n . 2L, 3L, 2L, 2L, 2L, 2L, 2L, 2L, 2L, 2L, 2L, 2L, 2L, 2L, 2L, 2L, \n . 2L, 2L, 2L, 2L, 2L, 2L, 2L, 2L, 2L, 2L, 2L, 3L, 1L, 2L, 1L, 2L, \n . 2L, 1L, 2L, 2L, 2L, 1L, 2L, 2L, 2L, 2L, 2L, 2L, 2L, 2L, 2L, 2L, \n . 1L, 2L, 3L, 2L, 2L, 2L, 2L, 2L, 2L, 2L, 3L, 2L, 3L, 2L, 1L, 2L, \n . 3L, 3L, 2L, 2L, 2L, 2L, 3L, 2L, 3L, 3L, 2L, 2L, 2L, 2L, 1L, 2L, \n . 2L, 1L, 1L, 2L, 1L, 2L, 3L, 3L, 1L, 1L, 1L, 2L, 1L, 2L, 2L, 2L, \n . 1L, 3L, 1L, 1L, 2L, 1L, 1L, 1L, 1L, 1L, 3L, 1L, 1L, 1L, 2L, 1L, \n . 1L, 3L, 3L, 2L, 1L, 2L, 1L, 1L, 1L, 1L, 1L, 1L, 1L, 2L, 1L, 1L, \n . 1L, 1L, 2L, 1L, 1L, 3L, 1L, 1L, 2L, 1L, 3L, 1L, 3L, 3L, 1L, 3L, \n . 2L, 1L, 3L, 2L, 2L, 3L, 1L, 1L, 1L, 1L, 1L, 1L, 1L, 1L, 2L, 1L, \n . 3L, 1L, 3L, 3L, 3L, 3L, 3L, 1L, 3L, 2L, 3L, 1L, 1L, 3L, 1L, 1L, \n . 1L, 1L, 1L, 2L, 1L, 1L, 1L, 2L, 1L, 1L, 3L, 3L, 2L, 2L, 2L, 3L, \n . 3L, 2L, 1L, 3L, 3L, 1L, 1L, 1L, 1L, 1L, 1L, 1L, 1L, 1L, 1L, 1L, \n . 1L, 1L, 1L, 2L, 1L, 1L, 2L, 2L, 1L, 3L, 2L, 2L, 3L, 2L, 1L, 1L, \n . 2L, 1L, 3L, 1L, 2L, 1L, 1L, 3L, 1L, 2L, 1L, 1L, 1L, 1L, 1L, 1L, \n . 2L, 1L, 2L, 1L, 2L, 1L, 2L, 3L, 2L, 1L, 1L, 1L, 1L, 2L, 1L, 1L, \n . 3L, 2L, 1L, 2L, 1L, 1L, 3L, 2L, 3L, 3L, 2L, 2L, 3L, 3L, 1L, 1L, \n . 1L, 2L, 1L, 1L, 2L, 2L, 1L, 2L, 2L, 2L, 2L, 1L, 2L, 2L, 2L, 1L, \n . 1L, 1L, 1L, 1L, 2L, 1L, 3L, 1L, 1L, 2L, 2L, 2L, 2L, 1L, 2L, 2L, \n . 1L, 1L, 1L, 1L, 2L, 2L, 2L, 3L, 2L, 2L, 1L, 2L, 1L, 2L, 2L, 1L, \n . 3L, 1L, 3L, 3L, 3L, 3L, 3L, 1L, 3L, 2L, 3L, 1L, 1L, 3L, 1L, 1L, \n . 1L, 1L, 1L, 2L, 1L, 1L, 1L, 2L, 1L, 1L, 3L, 3L, 2L, 2L, 2L, 3L, \n . 3L, 2L, 1L, 3L, 3L, 1L, 1L, 1L, 1L, 1L, 1L, 1L, 1L, 1L, 1L, 1L, \n . 1L, 1L, 1L, 2L, 1L, 1L, 2L, 2L, 1L, 3L, 2L, 2L, 3L, 2L, 1L, 1L, \n . 2L, 1L, 3L, 1L, 2L, 1L, 1L, 3L, 1L, 2L, 1L, 1L, 1L, 1L), .Label = c(\"1\", \n . \"2\", \"3\"), class = \"factor\")), row.names = c(NA, -399L), class = \"data.frame\"), \n .     na.rm = TRUE)",
            "3. lapply(args, function(x) {\n .     x <- as.matrix(x)\n .     if (!is.numeric(x) && !is.logical(x) && !is.complex(x)) \n .         stop(\"only defined on a data frame with all numeric-alike variables\")\n .     x\n . })",
            "4. FUN(X[[i]], ...)",
            "5. stop(\"only defined on a data frame with all numeric-alike variables\")"
          ]
        }
      ]
    },
    {
      "cell_type": "code",
      "metadata": {
        "id": "wi7kXow2360f"
      },
      "source": [
        "#3.\tDo a barplot of important variables of the dataset \n"
      ],
      "execution_count": null,
      "outputs": []
    },
    {
      "cell_type": "code",
      "metadata": {
        "id": "pNJAFMWW360f"
      },
      "source": [
        "#4.  Use ggplot barplot function for the same variables and explain the output.\n"
      ],
      "execution_count": null,
      "outputs": []
    },
    {
      "cell_type": "code",
      "metadata": {
        "id": "ren5H4VZ360g"
      },
      "source": [
        "#4.\tBoxplot any variable of your choice of the dataset and explain the output\n"
      ],
      "execution_count": null,
      "outputs": []
    },
    {
      "cell_type": "markdown",
      "metadata": {
        "id": "1brHopfawMWI"
      },
      "source": [
        "# Part II - Model Planning/Building\n",
        "Used Techniques:\n",
        "\n",
        "\n",
        "1.   Clustering (Chapte 4)\n",
        "2.   Classification (Chapte 5)\n",
        "\n",
        "\n",
        "\n",
        "\n"
      ]
    },
    {
      "cell_type": "markdown",
      "metadata": {
        "id": "kzyqQvq9wMWI"
      },
      "source": [
        "### Answers"
      ]
    },
    {
      "cell_type": "code",
      "metadata": {
        "id": "TBFoUxX3wMWJ"
      },
      "source": [
        "# 1. Your answers goes here: use as many code cells or text cell to have a nice presenatation of your solutions"
      ],
      "execution_count": null,
      "outputs": []
    },
    {
      "cell_type": "markdown",
      "metadata": {
        "id": "J0Y2C4bh360h"
      },
      "source": [
        "### Clustering"
      ]
    },
    {
      "cell_type": "markdown",
      "metadata": {
        "id": "kG4K2PtowM5n"
      },
      "source": [
        "\n",
        "\n",
        "---\n",
        "\n"
      ]
    },
    {
      "cell_type": "code",
      "metadata": {
        "id": "xy-LJLS4360h"
      },
      "source": [
        "#Data set for clustering\n"
      ],
      "execution_count": null,
      "outputs": []
    },
    {
      "cell_type": "code",
      "metadata": {
        "id": "Nf2hTJlW360i"
      },
      "source": [
        "#Kmeans Clustering\n"
      ],
      "execution_count": null,
      "outputs": []
    },
    {
      "cell_type": "code",
      "metadata": {
        "id": "chXpfTrs360i"
      },
      "source": [
        "#Custering Plots\n"
      ],
      "execution_count": null,
      "outputs": []
    },
    {
      "cell_type": "markdown",
      "metadata": {
        "id": "eDAcxjGq360i"
      },
      "source": [
        "## Classification"
      ]
    },
    {
      "cell_type": "code",
      "metadata": {
        "id": "8IYSzAz3-gub"
      },
      "source": [
        "#Data set for Classification"
      ],
      "execution_count": null,
      "outputs": []
    },
    {
      "cell_type": "code",
      "metadata": {
        "id": "GMOeZ--l360i"
      },
      "source": [
        "#Building Decision Tree Model on Iris Dataset\n"
      ],
      "execution_count": null,
      "outputs": []
    },
    {
      "cell_type": "code",
      "metadata": {
        "id": "deTMblnL360j"
      },
      "source": [
        "#Decision Tree Plot\n"
      ],
      "execution_count": null,
      "outputs": []
    },
    {
      "cell_type": "markdown",
      "metadata": {
        "id": "67mu26G7L7hT"
      },
      "source": [
        "\n",
        "\n",
        "---\n",
        "\n"
      ]
    }
  ]
}